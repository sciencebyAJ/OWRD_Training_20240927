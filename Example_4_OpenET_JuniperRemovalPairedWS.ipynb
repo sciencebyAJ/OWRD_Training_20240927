{
  "nbformat": 4,
  "nbformat_minor": 0,
  "metadata": {
    "colab": {
      "provenance": [],
      "collapsed_sections": [
        "UEYF_8Ja7hsl",
        "Zmt7Zm8s4Hym",
        "nzKsaegv38O8",
        "pvS0dk1r1EMa"
      ],
      "authorship_tag": "ABX9TyMMkbQwiqQSriBvclJzZIHe",
      "include_colab_link": true
    },
    "kernelspec": {
      "name": "python3",
      "display_name": "Python 3"
    },
    "language_info": {
      "name": "python"
    }
  },
  "cells": [
    {
      "cell_type": "markdown",
      "metadata": {
        "id": "view-in-github",
        "colab_type": "text"
      },
      "source": [
        "<a href=\"https://colab.research.google.com/github/sciencebyAJ/OWRD_Training_20240927/blob/main/Example_4_OpenET_JuniperRemovalPairedWS.ipynb\" target=\"_parent\"><img src=\"https://colab.research.google.com/assets/colab-badge.svg\" alt=\"Open In Colab\"/></a>"
      ]
    },
    {
      "cell_type": "markdown",
      "source": [
        "# Evaluating Paired Watersheds\n",
        "\n",
        "* A set of paired watersheds are used to evaluate forest management impacts on ET rates and potentially water yield.\n",
        "\n",
        "* This example evaluates the Mays and Jensen Watersheds using OpenET data.\n",
        "\n",
        "* Juniper pine were removed from the Mays Watershed in 2005-2006.\n",
        "\n",
        "* This example shows how to use the OpenET API endpoints to extract information about ET rates in the paired watersheds"
      ],
      "metadata": {
        "id": "QoSlH0Be4L40"
      }
    },
    {
      "cell_type": "markdown",
      "source": [
        "## Upload geospatial data\n",
        "\n",
        "*   Make git command to bring in shapefiles for training.\n",
        "*   Add files to the instance of the collab session by selecting"
      ],
      "metadata": {
        "id": "UEYF_8Ja7hsl"
      }
    },
    {
      "cell_type": "code",
      "execution_count": 1,
      "metadata": {
        "colab": {
          "base_uri": "https://localhost:8080/"
        },
        "id": "gJvbTMU4ffSq",
        "outputId": "a46e0697-2a8c-45e9-f33b-f721dd289be2"
      },
      "outputs": [
        {
          "output_type": "stream",
          "name": "stdout",
          "text": [
            "Cloning into 'OWRD_Training_20240927'...\n",
            "remote: Enumerating objects: 44, done.\u001b[K\n",
            "remote: Counting objects: 100% (44/44), done.\u001b[K\n",
            "remote: Compressing objects: 100% (37/37), done.\u001b[K\n",
            "remote: Total 44 (delta 13), reused 27 (delta 5), pack-reused 0 (from 0)\u001b[K\n",
            "Receiving objects: 100% (44/44), 61.19 KiB | 602.00 KiB/s, done.\n",
            "Resolving deltas: 100% (13/13), done.\n"
          ]
        }
      ],
      "source": [
        "! git clone https://github.com/sciencebyAJ/OWRD_Training_20240927.git"
      ]
    },
    {
      "cell_type": "code",
      "source": [
        "from google.colab import files\n",
        "uploaded = files.upload()"
      ],
      "metadata": {
        "id": "dpy4c7nx4HdK"
      },
      "execution_count": null,
      "outputs": []
    },
    {
      "cell_type": "markdown",
      "source": [
        "## Import python libraries for analysis\n",
        "\n",
        "*   geopandas allows you to read / work with shapefiles\n",
        "*   pandas supports analysis on tables and time series\n",
        "*   getpass keeps your API key hiddent\n",
        "*   requests allows you to interact with the OpenET API\n",
        "*   matplotlib enables plot customizations"
      ],
      "metadata": {
        "id": "Zmt7Zm8s4Hym"
      }
    },
    {
      "cell_type": "code",
      "source": [
        "\n",
        "import geopandas as gpd\n",
        "import pandas as pd\n",
        "import getpass\n",
        "import requests\n",
        "from matplotlib import pyplot as plt\n"
      ],
      "metadata": {
        "id": "kgbxfgLZfhpP"
      },
      "execution_count": 12,
      "outputs": []
    },
    {
      "cell_type": "markdown",
      "source": [
        "## Read in shapefiles:\n",
        "\n",
        "1.   Read in Shapefiles for Mays Watershed an Jensen Watershed\n",
        "2.   Re-project files to WGS 84 projection ('EPSG 4326')\n",
        "3.   Convert shapefile format to coordinate list for API call"
      ],
      "metadata": {
        "id": "nzKsaegv38O8"
      }
    },
    {
      "cell_type": "code",
      "source": [
        "maysws_gdf = gpd.read_file('/content/OWRD_Training_20240927/Shapefiles/maysWS/maysWS.shp')\n",
        "jensenws_gdf = gpd.read_file('/content/OWRD_Training_20240927/Shapefiles/jensenWS/jensenWS.shp')\n",
        "maysws_gdf_gee = maysws_gdf.to_crs(epsg=4326)\n",
        "jensenws_gdf_gee = jensenws_gdf.to_crs(epsg=4326)"
      ],
      "metadata": {
        "id": "47YgMm94gMad"
      },
      "execution_count": 3,
      "outputs": []
    },
    {
      "cell_type": "markdown",
      "source": [
        "Extract a coodinate list from the polygon geometry to make an API"
      ],
      "metadata": {
        "id": "KmxqVJsqXs2c"
      }
    },
    {
      "cell_type": "code",
      "source": [
        "# This is a function to convert the geometry of the shapefile to a list of coordinate pairs\n",
        "def get_coord_list(gdf):\n",
        "  '''\n",
        "  input\n",
        "  gdf: geodataframe (e.g. shapefile) containing 1 polygon\n",
        "  returns\n",
        "  coord_list: list of coordinate pairs defining the polygon\n",
        "              coordinate pairs allow you to interact easily with\n",
        "              the OpenET API's polygon endpoint\n",
        "  '''\n",
        "  poly_coords = gdf.geometry.get_coordinates()\n",
        "  poly_coords_list = poly_coords.values.tolist()\n",
        "  coord_list = [j for i in poly_coords_list for j in i]\n",
        "  return coord_list"
      ],
      "metadata": {
        "id": "KLpxnyqUg7Yt"
      },
      "execution_count": 30,
      "outputs": []
    },
    {
      "cell_type": "code",
      "source": [
        "# maysWS_coords is a list of coordinates for the Mays Watershed\n",
        "maysWS_coords = get_coord_list(maysws_gdf_gee)\n",
        "\n",
        "# jensensWS_coords is a list of coordinates for the Jensen Watershed\n",
        "jensensWS_coords = get_coord_list(jensenws_gdf_gee)"
      ],
      "metadata": {
        "id": "cT8xYviG9BBM"
      },
      "execution_count": 29,
      "outputs": []
    },
    {
      "cell_type": "markdown",
      "source": [
        "### Get your API key from the OpenET API website\n",
        "\n",
        "Navigate to [OpenET's website](https://account.etdata.org/settings/api) to copy your API key to the clipboard.\n"
      ],
      "metadata": {
        "id": "eT7eDRHD8nBV"
      }
    },
    {
      "cell_type": "code",
      "source": [
        "YOUR_API_KEY = getpass.getpass('Paste API Key Here --> ')"
      ],
      "metadata": {
        "colab": {
          "base_uri": "https://localhost:8080/"
        },
        "id": "v86RHq8d321G",
        "outputId": "1edb89f8-c665-4286-d385-b9714412f959"
      },
      "execution_count": 6,
      "outputs": [
        {
          "name": "stdout",
          "output_type": "stream",
          "text": [
            "Paste API Key Here --> ··········\n"
          ]
        }
      ]
    },
    {
      "cell_type": "markdown",
      "source": [
        "## Make an OpenET API request for time series\n",
        "\n",
        "* Find API parameter description information here\n",
        "* Find information on the OpenET timeseries/polygon endpoint here"
      ],
      "metadata": {
        "id": "aUUGwoiE_D3l"
      }
    },
    {
      "cell_type": "markdown",
      "source": [
        "### Extract OpenET data for the Mays Watershed"
      ],
      "metadata": {
        "id": "kDyjhSAqD-Wq"
      }
    },
    {
      "cell_type": "code",
      "source": [
        "# This code assigns the API key you input above prior to making a request\n",
        "header = {\"Authorization\": YOUR_API_KEY}\n",
        "\n",
        "# endpoint arguments\n",
        "args = {\n",
        "  \"date_range\": [\n",
        "    \"1990-01-01\", #< This is where you can adjust date range format \"YYYY-MM-DD\"\n",
        "    \"2023-12-31\"\n",
        "  ],\n",
        "  \"interval\": \"monthly\",\n",
        "  \"geometry\": maysWS_coords, #< Note that this is where you can change out geometry\n",
        "  \"model\": \"ensemble\", #<- what model do you want?\n",
        "  \"variable\": \"ET\",#<- what variable do you want? ET, EToF, ETo\n",
        "  \"reference_et\": \"gridMET\",\n",
        "  \"reducer\": \"mean\", #<- do you want mean of ET over watershed or Sum of ET?\n",
        "  \"units\": \"mm\", #<- mm or in\n",
        "  \"file_format\": \"JSON\"\n",
        "}\n",
        "\n",
        "# query the api and return to variable 'resp'\n",
        "resp = requests.post(\n",
        "    headers=header,\n",
        "    json=args,\n",
        "    url=\"https://oregon.openet-api.org/raster/timeseries/polygon\"\n",
        ")\n",
        "\n",
        "# Converts the json to a table for analysis\n",
        "Mays_df = pd.DataFrame.from_dict(resp.json())"
      ],
      "metadata": {
        "id": "NV4VRW1D2IUY"
      },
      "execution_count": 63,
      "outputs": []
    },
    {
      "cell_type": "markdown",
      "source": [
        "Let's pause to look at the table that was returned here"
      ],
      "metadata": {
        "id": "H0uCy6wfCn45"
      }
    },
    {
      "cell_type": "code",
      "source": [
        "Mays_df"
      ],
      "metadata": {
        "id": "hB18rQQvpnwq"
      },
      "execution_count": null,
      "outputs": []
    },
    {
      "cell_type": "markdown",
      "source": [
        "#### Save the table to your computer.\n",
        "\n",
        "\n"
      ],
      "metadata": {
        "id": "zuYQ4Sy9C4Gs"
      }
    },
    {
      "cell_type": "markdown",
      "source": [
        "If you want to save the table as a csv file.\n",
        "```\n",
        "Mays_df.to_csv('Mays_WS_ET_2010_2023.csv')\n",
        "```\n",
        "\n",
        "If you want to save the table as an Excel sheet.\n",
        "```\n",
        "Mays_df.to_excel('Mays_WS_ET_2010_2023.xlxs')\n",
        "```\n",
        "\n",
        "If you copy and paste one of these code blocks in the cell below the file will be saved to the 'Files' Tab on the left of the screen. Then you can click on the three dots on right to select download to your local computer for analysis.\n",
        "\n",
        "**Try it out**: Paste on fo the code sections into the cell below and run the code."
      ],
      "metadata": {
        "id": "spELbP5HEkYG"
      }
    },
    {
      "cell_type": "code",
      "source": [
        "# Paste code here\n"
      ],
      "metadata": {
        "id": "jR1GU2Y_C3mO"
      },
      "execution_count": 55,
      "outputs": []
    },
    {
      "cell_type": "markdown",
      "source": [
        "### Extract OpenET data for the Jensen Watershed"
      ],
      "metadata": {
        "id": "wuduQLQnEPgL"
      }
    },
    {
      "cell_type": "markdown",
      "source": [
        "Repeats the same steps for the Jensen Watershed"
      ],
      "metadata": {
        "id": "A8p-vhnkHCh5"
      }
    },
    {
      "cell_type": "code",
      "source": [
        "# endpoint arguments\n",
        "args = {\n",
        "  \"date_range\": [\n",
        "    \"1990-01-01\",\n",
        "    \"2023-12-31\"\n",
        "  ],\n",
        "  \"interval\": \"monthly\",\n",
        "  \"geometry\": jensensWS_coords,\n",
        "  \"model\": \"ensemble\",\n",
        "  \"variable\": \"ET\",\n",
        "  \"reference_et\": \"gridMET\",\n",
        "  \"reducer\": \"mean\",\n",
        "  \"units\": \"mm\",\n",
        "  \"file_format\": \"JSON\"\n",
        "}\n",
        "\n",
        "# query the api\n",
        "resp = requests.post(\n",
        "    headers=header,\n",
        "    json=args,\n",
        "    url=\"https://oregon.openet-api.org/raster/timeseries/polygon\"\n",
        ")\n",
        "\n",
        "Jensen_df = pd.DataFrame.from_dict((resp.json()))"
      ],
      "metadata": {
        "id": "UPGz_akC2dDp"
      },
      "execution_count": 66,
      "outputs": []
    },
    {
      "cell_type": "markdown",
      "source": [
        "Pause to look at the table for Jensen"
      ],
      "metadata": {
        "id": "qfvqoP6KHSMr"
      }
    },
    {
      "cell_type": "code",
      "source": [
        "Jensen_df"
      ],
      "metadata": {
        "colab": {
          "base_uri": "https://localhost:8080/",
          "height": 423
        },
        "id": "f2LF15IEpu6C",
        "outputId": "93d6e3da-45d8-47d0-8a60-7f3f29457308"
      },
      "execution_count": 67,
      "outputs": [
        {
          "output_type": "execute_result",
          "data": {
            "text/plain": [
              "           time      et\n",
              "0    1990-01-01  15.291\n",
              "1    1990-02-01  14.021\n",
              "2    1990-03-01  34.298\n",
              "3    1990-04-01  47.744\n",
              "4    1990-05-01  61.395\n",
              "..          ...     ...\n",
              "403  2023-08-01  68.674\n",
              "404  2023-09-01  49.595\n",
              "405  2023-10-01  37.720\n",
              "406  2023-11-01  15.457\n",
              "407  2023-12-01  18.395\n",
              "\n",
              "[408 rows x 2 columns]"
            ],
            "text/html": [
              "\n",
              "  <div id=\"df-3ab9994b-b9fd-40df-8033-69db96937d12\" class=\"colab-df-container\">\n",
              "    <div>\n",
              "<style scoped>\n",
              "    .dataframe tbody tr th:only-of-type {\n",
              "        vertical-align: middle;\n",
              "    }\n",
              "\n",
              "    .dataframe tbody tr th {\n",
              "        vertical-align: top;\n",
              "    }\n",
              "\n",
              "    .dataframe thead th {\n",
              "        text-align: right;\n",
              "    }\n",
              "</style>\n",
              "<table border=\"1\" class=\"dataframe\">\n",
              "  <thead>\n",
              "    <tr style=\"text-align: right;\">\n",
              "      <th></th>\n",
              "      <th>time</th>\n",
              "      <th>et</th>\n",
              "    </tr>\n",
              "  </thead>\n",
              "  <tbody>\n",
              "    <tr>\n",
              "      <th>0</th>\n",
              "      <td>1990-01-01</td>\n",
              "      <td>15.291</td>\n",
              "    </tr>\n",
              "    <tr>\n",
              "      <th>1</th>\n",
              "      <td>1990-02-01</td>\n",
              "      <td>14.021</td>\n",
              "    </tr>\n",
              "    <tr>\n",
              "      <th>2</th>\n",
              "      <td>1990-03-01</td>\n",
              "      <td>34.298</td>\n",
              "    </tr>\n",
              "    <tr>\n",
              "      <th>3</th>\n",
              "      <td>1990-04-01</td>\n",
              "      <td>47.744</td>\n",
              "    </tr>\n",
              "    <tr>\n",
              "      <th>4</th>\n",
              "      <td>1990-05-01</td>\n",
              "      <td>61.395</td>\n",
              "    </tr>\n",
              "    <tr>\n",
              "      <th>...</th>\n",
              "      <td>...</td>\n",
              "      <td>...</td>\n",
              "    </tr>\n",
              "    <tr>\n",
              "      <th>403</th>\n",
              "      <td>2023-08-01</td>\n",
              "      <td>68.674</td>\n",
              "    </tr>\n",
              "    <tr>\n",
              "      <th>404</th>\n",
              "      <td>2023-09-01</td>\n",
              "      <td>49.595</td>\n",
              "    </tr>\n",
              "    <tr>\n",
              "      <th>405</th>\n",
              "      <td>2023-10-01</td>\n",
              "      <td>37.720</td>\n",
              "    </tr>\n",
              "    <tr>\n",
              "      <th>406</th>\n",
              "      <td>2023-11-01</td>\n",
              "      <td>15.457</td>\n",
              "    </tr>\n",
              "    <tr>\n",
              "      <th>407</th>\n",
              "      <td>2023-12-01</td>\n",
              "      <td>18.395</td>\n",
              "    </tr>\n",
              "  </tbody>\n",
              "</table>\n",
              "<p>408 rows × 2 columns</p>\n",
              "</div>\n",
              "    <div class=\"colab-df-buttons\">\n",
              "\n",
              "  <div class=\"colab-df-container\">\n",
              "    <button class=\"colab-df-convert\" onclick=\"convertToInteractive('df-3ab9994b-b9fd-40df-8033-69db96937d12')\"\n",
              "            title=\"Convert this dataframe to an interactive table.\"\n",
              "            style=\"display:none;\">\n",
              "\n",
              "  <svg xmlns=\"http://www.w3.org/2000/svg\" height=\"24px\" viewBox=\"0 -960 960 960\">\n",
              "    <path d=\"M120-120v-720h720v720H120Zm60-500h600v-160H180v160Zm220 220h160v-160H400v160Zm0 220h160v-160H400v160ZM180-400h160v-160H180v160Zm440 0h160v-160H620v160ZM180-180h160v-160H180v160Zm440 0h160v-160H620v160Z\"/>\n",
              "  </svg>\n",
              "    </button>\n",
              "\n",
              "  <style>\n",
              "    .colab-df-container {\n",
              "      display:flex;\n",
              "      gap: 12px;\n",
              "    }\n",
              "\n",
              "    .colab-df-convert {\n",
              "      background-color: #E8F0FE;\n",
              "      border: none;\n",
              "      border-radius: 50%;\n",
              "      cursor: pointer;\n",
              "      display: none;\n",
              "      fill: #1967D2;\n",
              "      height: 32px;\n",
              "      padding: 0 0 0 0;\n",
              "      width: 32px;\n",
              "    }\n",
              "\n",
              "    .colab-df-convert:hover {\n",
              "      background-color: #E2EBFA;\n",
              "      box-shadow: 0px 1px 2px rgba(60, 64, 67, 0.3), 0px 1px 3px 1px rgba(60, 64, 67, 0.15);\n",
              "      fill: #174EA6;\n",
              "    }\n",
              "\n",
              "    .colab-df-buttons div {\n",
              "      margin-bottom: 4px;\n",
              "    }\n",
              "\n",
              "    [theme=dark] .colab-df-convert {\n",
              "      background-color: #3B4455;\n",
              "      fill: #D2E3FC;\n",
              "    }\n",
              "\n",
              "    [theme=dark] .colab-df-convert:hover {\n",
              "      background-color: #434B5C;\n",
              "      box-shadow: 0px 1px 3px 1px rgba(0, 0, 0, 0.15);\n",
              "      filter: drop-shadow(0px 1px 2px rgba(0, 0, 0, 0.3));\n",
              "      fill: #FFFFFF;\n",
              "    }\n",
              "  </style>\n",
              "\n",
              "    <script>\n",
              "      const buttonEl =\n",
              "        document.querySelector('#df-3ab9994b-b9fd-40df-8033-69db96937d12 button.colab-df-convert');\n",
              "      buttonEl.style.display =\n",
              "        google.colab.kernel.accessAllowed ? 'block' : 'none';\n",
              "\n",
              "      async function convertToInteractive(key) {\n",
              "        const element = document.querySelector('#df-3ab9994b-b9fd-40df-8033-69db96937d12');\n",
              "        const dataTable =\n",
              "          await google.colab.kernel.invokeFunction('convertToInteractive',\n",
              "                                                    [key], {});\n",
              "        if (!dataTable) return;\n",
              "\n",
              "        const docLinkHtml = 'Like what you see? Visit the ' +\n",
              "          '<a target=\"_blank\" href=https://colab.research.google.com/notebooks/data_table.ipynb>data table notebook</a>'\n",
              "          + ' to learn more about interactive tables.';\n",
              "        element.innerHTML = '';\n",
              "        dataTable['output_type'] = 'display_data';\n",
              "        await google.colab.output.renderOutput(dataTable, element);\n",
              "        const docLink = document.createElement('div');\n",
              "        docLink.innerHTML = docLinkHtml;\n",
              "        element.appendChild(docLink);\n",
              "      }\n",
              "    </script>\n",
              "  </div>\n",
              "\n",
              "\n",
              "<div id=\"df-208dbad9-3b47-495d-a429-777345a8d846\">\n",
              "  <button class=\"colab-df-quickchart\" onclick=\"quickchart('df-208dbad9-3b47-495d-a429-777345a8d846')\"\n",
              "            title=\"Suggest charts\"\n",
              "            style=\"display:none;\">\n",
              "\n",
              "<svg xmlns=\"http://www.w3.org/2000/svg\" height=\"24px\"viewBox=\"0 0 24 24\"\n",
              "     width=\"24px\">\n",
              "    <g>\n",
              "        <path d=\"M19 3H5c-1.1 0-2 .9-2 2v14c0 1.1.9 2 2 2h14c1.1 0 2-.9 2-2V5c0-1.1-.9-2-2-2zM9 17H7v-7h2v7zm4 0h-2V7h2v10zm4 0h-2v-4h2v4z\"/>\n",
              "    </g>\n",
              "</svg>\n",
              "  </button>\n",
              "\n",
              "<style>\n",
              "  .colab-df-quickchart {\n",
              "      --bg-color: #E8F0FE;\n",
              "      --fill-color: #1967D2;\n",
              "      --hover-bg-color: #E2EBFA;\n",
              "      --hover-fill-color: #174EA6;\n",
              "      --disabled-fill-color: #AAA;\n",
              "      --disabled-bg-color: #DDD;\n",
              "  }\n",
              "\n",
              "  [theme=dark] .colab-df-quickchart {\n",
              "      --bg-color: #3B4455;\n",
              "      --fill-color: #D2E3FC;\n",
              "      --hover-bg-color: #434B5C;\n",
              "      --hover-fill-color: #FFFFFF;\n",
              "      --disabled-bg-color: #3B4455;\n",
              "      --disabled-fill-color: #666;\n",
              "  }\n",
              "\n",
              "  .colab-df-quickchart {\n",
              "    background-color: var(--bg-color);\n",
              "    border: none;\n",
              "    border-radius: 50%;\n",
              "    cursor: pointer;\n",
              "    display: none;\n",
              "    fill: var(--fill-color);\n",
              "    height: 32px;\n",
              "    padding: 0;\n",
              "    width: 32px;\n",
              "  }\n",
              "\n",
              "  .colab-df-quickchart:hover {\n",
              "    background-color: var(--hover-bg-color);\n",
              "    box-shadow: 0 1px 2px rgba(60, 64, 67, 0.3), 0 1px 3px 1px rgba(60, 64, 67, 0.15);\n",
              "    fill: var(--button-hover-fill-color);\n",
              "  }\n",
              "\n",
              "  .colab-df-quickchart-complete:disabled,\n",
              "  .colab-df-quickchart-complete:disabled:hover {\n",
              "    background-color: var(--disabled-bg-color);\n",
              "    fill: var(--disabled-fill-color);\n",
              "    box-shadow: none;\n",
              "  }\n",
              "\n",
              "  .colab-df-spinner {\n",
              "    border: 2px solid var(--fill-color);\n",
              "    border-color: transparent;\n",
              "    border-bottom-color: var(--fill-color);\n",
              "    animation:\n",
              "      spin 1s steps(1) infinite;\n",
              "  }\n",
              "\n",
              "  @keyframes spin {\n",
              "    0% {\n",
              "      border-color: transparent;\n",
              "      border-bottom-color: var(--fill-color);\n",
              "      border-left-color: var(--fill-color);\n",
              "    }\n",
              "    20% {\n",
              "      border-color: transparent;\n",
              "      border-left-color: var(--fill-color);\n",
              "      border-top-color: var(--fill-color);\n",
              "    }\n",
              "    30% {\n",
              "      border-color: transparent;\n",
              "      border-left-color: var(--fill-color);\n",
              "      border-top-color: var(--fill-color);\n",
              "      border-right-color: var(--fill-color);\n",
              "    }\n",
              "    40% {\n",
              "      border-color: transparent;\n",
              "      border-right-color: var(--fill-color);\n",
              "      border-top-color: var(--fill-color);\n",
              "    }\n",
              "    60% {\n",
              "      border-color: transparent;\n",
              "      border-right-color: var(--fill-color);\n",
              "    }\n",
              "    80% {\n",
              "      border-color: transparent;\n",
              "      border-right-color: var(--fill-color);\n",
              "      border-bottom-color: var(--fill-color);\n",
              "    }\n",
              "    90% {\n",
              "      border-color: transparent;\n",
              "      border-bottom-color: var(--fill-color);\n",
              "    }\n",
              "  }\n",
              "</style>\n",
              "\n",
              "  <script>\n",
              "    async function quickchart(key) {\n",
              "      const quickchartButtonEl =\n",
              "        document.querySelector('#' + key + ' button');\n",
              "      quickchartButtonEl.disabled = true;  // To prevent multiple clicks.\n",
              "      quickchartButtonEl.classList.add('colab-df-spinner');\n",
              "      try {\n",
              "        const charts = await google.colab.kernel.invokeFunction(\n",
              "            'suggestCharts', [key], {});\n",
              "      } catch (error) {\n",
              "        console.error('Error during call to suggestCharts:', error);\n",
              "      }\n",
              "      quickchartButtonEl.classList.remove('colab-df-spinner');\n",
              "      quickchartButtonEl.classList.add('colab-df-quickchart-complete');\n",
              "    }\n",
              "    (() => {\n",
              "      let quickchartButtonEl =\n",
              "        document.querySelector('#df-208dbad9-3b47-495d-a429-777345a8d846 button');\n",
              "      quickchartButtonEl.style.display =\n",
              "        google.colab.kernel.accessAllowed ? 'block' : 'none';\n",
              "    })();\n",
              "  </script>\n",
              "</div>\n",
              "\n",
              "  <div id=\"id_bebcb23c-d39f-46df-9af3-aff3523b19bd\">\n",
              "    <style>\n",
              "      .colab-df-generate {\n",
              "        background-color: #E8F0FE;\n",
              "        border: none;\n",
              "        border-radius: 50%;\n",
              "        cursor: pointer;\n",
              "        display: none;\n",
              "        fill: #1967D2;\n",
              "        height: 32px;\n",
              "        padding: 0 0 0 0;\n",
              "        width: 32px;\n",
              "      }\n",
              "\n",
              "      .colab-df-generate:hover {\n",
              "        background-color: #E2EBFA;\n",
              "        box-shadow: 0px 1px 2px rgba(60, 64, 67, 0.3), 0px 1px 3px 1px rgba(60, 64, 67, 0.15);\n",
              "        fill: #174EA6;\n",
              "      }\n",
              "\n",
              "      [theme=dark] .colab-df-generate {\n",
              "        background-color: #3B4455;\n",
              "        fill: #D2E3FC;\n",
              "      }\n",
              "\n",
              "      [theme=dark] .colab-df-generate:hover {\n",
              "        background-color: #434B5C;\n",
              "        box-shadow: 0px 1px 3px 1px rgba(0, 0, 0, 0.15);\n",
              "        filter: drop-shadow(0px 1px 2px rgba(0, 0, 0, 0.3));\n",
              "        fill: #FFFFFF;\n",
              "      }\n",
              "    </style>\n",
              "    <button class=\"colab-df-generate\" onclick=\"generateWithVariable('Jensen_df')\"\n",
              "            title=\"Generate code using this dataframe.\"\n",
              "            style=\"display:none;\">\n",
              "\n",
              "  <svg xmlns=\"http://www.w3.org/2000/svg\" height=\"24px\"viewBox=\"0 0 24 24\"\n",
              "       width=\"24px\">\n",
              "    <path d=\"M7,19H8.4L18.45,9,17,7.55,7,17.6ZM5,21V16.75L18.45,3.32a2,2,0,0,1,2.83,0l1.4,1.43a1.91,1.91,0,0,1,.58,1.4,1.91,1.91,0,0,1-.58,1.4L9.25,21ZM18.45,9,17,7.55Zm-12,3A5.31,5.31,0,0,0,4.9,8.1,5.31,5.31,0,0,0,1,6.5,5.31,5.31,0,0,0,4.9,4.9,5.31,5.31,0,0,0,6.5,1,5.31,5.31,0,0,0,8.1,4.9,5.31,5.31,0,0,0,12,6.5,5.46,5.46,0,0,0,6.5,12Z\"/>\n",
              "  </svg>\n",
              "    </button>\n",
              "    <script>\n",
              "      (() => {\n",
              "      const buttonEl =\n",
              "        document.querySelector('#id_bebcb23c-d39f-46df-9af3-aff3523b19bd button.colab-df-generate');\n",
              "      buttonEl.style.display =\n",
              "        google.colab.kernel.accessAllowed ? 'block' : 'none';\n",
              "\n",
              "      buttonEl.onclick = () => {\n",
              "        google.colab.notebook.generateWithVariable('Jensen_df');\n",
              "      }\n",
              "      })();\n",
              "    </script>\n",
              "  </div>\n",
              "\n",
              "    </div>\n",
              "  </div>\n"
            ],
            "application/vnd.google.colaboratory.intrinsic+json": {
              "type": "dataframe",
              "variable_name": "Jensen_df",
              "summary": "{\n  \"name\": \"Jensen_df\",\n  \"rows\": 408,\n  \"fields\": [\n    {\n      \"column\": \"time\",\n      \"properties\": {\n        \"dtype\": \"object\",\n        \"num_unique_values\": 408,\n        \"samples\": [\n          \"1995-11-01\",\n          \"2008-03-01\",\n          \"2011-07-01\"\n        ],\n        \"semantic_type\": \"\",\n        \"description\": \"\"\n      }\n    },\n    {\n      \"column\": \"et\",\n      \"properties\": {\n        \"dtype\": \"number\",\n        \"std\": 24.45640507674675,\n        \"min\": 0.093,\n        \"max\": 103.128,\n        \"num_unique_values\": 407,\n        \"samples\": [\n          14.444,\n          34.655,\n          54.911\n        ],\n        \"semantic_type\": \"\",\n        \"description\": \"\"\n      }\n    }\n  ]\n}"
            }
          },
          "metadata": {},
          "execution_count": 67
        }
      ]
    },
    {
      "cell_type": "markdown",
      "source": [
        "If you want to save the table as a csv file.\n",
        "```\n",
        "Jensen_df.to_csv('Jensen_WS_ET_2010_2023.csv')\n",
        "```\n",
        "\n",
        "If you want to save the table as an Excel sheet.\n",
        "```\n",
        "Jensen_df.to_excel('Jensen_WS_ET_2010_2023.xlxs')\n",
        "```\n",
        "\n",
        "Paste one of the code blocks into the cell below to save the table."
      ],
      "metadata": {
        "id": "GcXRopSfIv9w"
      }
    },
    {
      "cell_type": "code",
      "source": [
        "# Paste code here\n"
      ],
      "metadata": {
        "id": "kSyeUbyGI509"
      },
      "execution_count": 56,
      "outputs": []
    },
    {
      "cell_type": "markdown",
      "source": [
        "### Combine and organize the two tables for analysis\n",
        "\n",
        "* Rename the columns to track ET from each watershed\n",
        "* Merge tables on the time column\n",
        "* Assign the time column as the index of the table"
      ],
      "metadata": {
        "id": "6HoAQQ4vHHhr"
      }
    },
    {
      "cell_type": "code",
      "source": [
        "# rename the columns to reflect watershed\n",
        "Jensen_df.rename(columns={'et':'jensen_et_mm'},inplace=True)\n",
        "Mays_df.rename(columns={'et':'mays_et_mm'},inplace=True)\n",
        "\n",
        "# merge tables on the time column values\n",
        "both_df = pd.merge(Mays_df,Jensen_df,on='time')\n",
        "\n",
        "# make Python interpret time as a date instead of a string\n",
        "both_df['time']=pd.to_datetime(both_df['time'])\n",
        "# set the time as the index of the table\n",
        "both_df.set_index('time',inplace=True)"
      ],
      "metadata": {
        "id": "dUaF4fVLa7lc"
      },
      "execution_count": 151,
      "outputs": []
    },
    {
      "cell_type": "markdown",
      "source": [
        "Lets pause to see what those steps did"
      ],
      "metadata": {
        "id": "2BPgu554065m"
      }
    },
    {
      "cell_type": "code",
      "source": [
        "both_df"
      ],
      "metadata": {
        "id": "ymBL9MN405Zx"
      },
      "execution_count": null,
      "outputs": []
    },
    {
      "cell_type": "markdown",
      "source": [
        "## Analyze the data\n",
        "\n"
      ],
      "metadata": {
        "id": "3KpcoEqaJOCm"
      }
    },
    {
      "cell_type": "markdown",
      "source": [
        "### Create a plot of monthly mean ET by watershed."
      ],
      "metadata": {
        "id": "pvS0dk1r1EMa"
      }
    },
    {
      "cell_type": "code",
      "source": [
        "plt.style.use('ggplot')\n",
        "fig, axs = plt.subplots(1,1, figsize=(8, 4))\n",
        "axs.set_ylabel('ET (mm)')\n",
        "both_df.jensen_et_mm.plot(label='Jensen WS',ax=axs)\n",
        "\n",
        "both_df.mays_et_mm.plot(label='Mays WS',ax=axs)\n",
        "axs.axvline(\"2006-01-01\", color=\"black\", linestyle=\"dashed\")\n",
        "\n",
        "axs.legend(frameon=False)\n",
        "axs.set_xlabel(' ')\n",
        "fig.tight_layout()\n",
        "fig.savefig('PairedWatershed_JuniperPineEval.png')"
      ],
      "metadata": {
        "colab": {
          "base_uri": "https://localhost:8080/",
          "height": 407
        },
        "id": "tDCVjUQnZDv4",
        "outputId": "5adf2309-0e9d-4f69-8cca-180c4d4ef2d6"
      },
      "execution_count": 154,
      "outputs": [
        {
          "output_type": "display_data",
          "data": {
            "text/plain": [
              "<Figure size 800x400 with 1 Axes>"
            ],
            "image/png": "[encoded data removed]"
          },
          "metadata": {}
        }
      ]
    },
    {
      "cell_type": "markdown",
      "source": [
        "### Quantify impact on ET before / after Juniper Removal"
      ],
      "metadata": {
        "id": "dhuhwMgAJah_"
      }
    },
    {
      "cell_type": "code",
      "source": [
        "plt.style.use('fivethirtyeight')\n",
        "fig,axs = plt.subplots(1,2,figsize=(12,4),sharey=True)\n",
        "ann_dif = both_df.resample('1Y').sum()\n",
        "ann_dif['1990-01-01':'2005-12-31'][['mays_et_mm', 'jensen_et_mm']].plot(kind='box', ax=axs[0])\n",
        "axs[0].title.set_text('Annual ET average 1990-2005')\n",
        "axs[0].set_ylabel('ET (mm)')\n",
        "ann_dif['2006-01-01':'2023-12-31'][['mays_et_mm', 'jensen_et_mm']].plot(kind='box', ax=axs[1])\n",
        "axs[1].title.set_text('Annual ET average 2006-2023')\n",
        "plt.show()"
      ],
      "metadata": {
        "colab": {
          "base_uri": "https://localhost:8080/",
          "height": 416
        },
        "id": "8D6cbHvSxwso",
        "outputId": "a8839477-49f8-4840-f7db-9db3438ab664"
      },
      "execution_count": 155,
      "outputs": [
        {
          "output_type": "display_data",
          "data": {
            "text/plain": [
              "<Figure size 1200x400 with 2 Axes>"
            ],
            "image/png": "[encoded data removed]"
          },
          "metadata": {}
        }
      ]
    },
    {
      "cell_type": "markdown",
      "source": [
        "### Quantify Volume Difference"
      ],
      "metadata": {
        "id": "KRAxsRgP1GXL"
      }
    },
    {
      "cell_type": "markdown",
      "source": [
        "Get area from shapefile\n",
        "- Covert to EPSG: 32610 UTM Zone 10N map projection. Cartesian coordiantes are in units of meters.\n",
        "- Extract area from geometry of each feature in units of km$^2$\n",
        "\n",
        "Convert mm/month to km3 / month\n",
        "- Convert units from m$^2$ --> km$^2$"
      ],
      "metadata": {
        "id": "YbJddAZuTGT2"
      }
    },
    {
      "cell_type": "code",
      "source": [
        "m2km = 1000\n",
        "mm2km = 1000*1000\n",
        "km3_2_af = 810714\n",
        "\n",
        "maysws_gdf_AREAm2 = maysws_gdf.to_crs(epsg=32610)\n",
        "jensenws_gdf_AREAm2 = jensenws_gdf.to_crs(epsg=32610)\n",
        "#extract area\n",
        "mayws_km2 =maysws_gdf_AREAm2.geometry.area.values[0]/(m2km*m2km)\n",
        "jensenws_km2 =jensenws_gdf_AREAm2.geometry.area.values[0]/(m2km*m2km)\n",
        "\n",
        "ann_dif_tmp = ann_dif.copy()\n",
        "ann_dif_tmp['mays_et_af'] = km3_2_af*ann_dif_tmp['mays_et_mm']*mayws_km2/mm2km\n",
        "ann_dif_tmp['jensen_et_af'] = km3_2_af*ann_dif_tmp['jensen_et_mm']*jensenws_km2/mm2km\n",
        "\n",
        "ann_dif_af=ann_dif_tmp[['mays_et_af', 'jensen_et_af']]"
      ],
      "metadata": {
        "id": "q4pbEblmzjco"
      },
      "execution_count": 162,
      "outputs": []
    },
    {
      "cell_type": "code",
      "source": [
        "ann_dif_af"
      ],
      "metadata": {
        "colab": {
          "base_uri": "https://localhost:8080/",
          "height": 1000
        },
        "id": "njTUe-F3R8no",
        "outputId": "6d6b2dfa-186e-4eb9-96c2-792de75211fc"
      },
      "execution_count": 163,
      "outputs": [
        {
          "output_type": "execute_result",
          "data": {
            "text/plain": [
              "            mays_et_af  jensen_et_af\n",
              "time                                \n",
              "1990-12-31  311.057862    312.417492\n",
              "1991-12-31  289.448582    287.410229\n",
              "1992-12-31  250.450877    247.085722\n",
              "1993-12-31  266.918842    250.068715\n",
              "1994-12-31  289.901350    278.445568\n",
              "1995-12-31  320.966503    312.376715\n",
              "1996-12-31  305.513534    312.769586\n",
              "1997-12-31  354.085695    331.325462\n",
              "1998-12-31  268.119588    268.879447\n",
              "1999-12-31  311.302489    311.345528\n",
              "2000-12-31  322.789182    325.323405\n",
              "2001-12-31  381.712801    368.793227\n",
              "2002-12-31  396.118434    371.074385\n",
              "2003-12-31  334.718692    330.008836\n",
              "2004-12-31  339.357485    338.069346\n",
              "2005-12-31  408.420275    406.435080\n",
              "2006-12-31  309.854628    380.313507\n",
              "2007-12-31  319.023583    401.773174\n",
              "2008-12-31  307.729275    372.733695\n",
              "2009-12-31  304.965403    388.947247\n",
              "2010-12-31  292.035825    384.860139\n",
              "2011-12-31  267.784573    356.223725\n",
              "2012-12-31  233.516049    327.950383\n",
              "2013-12-31  263.085245    356.126488\n",
              "2014-12-31  322.347195    445.145759\n",
              "2015-12-31  306.392533    398.185584\n",
              "2016-12-31  328.273805    368.910853\n",
              "2017-12-31  256.521776    321.764829\n",
              "2018-12-31  283.450658    354.982380\n",
              "2019-12-31  276.659975    332.484469\n",
              "2020-12-31  315.312715    391.380534\n",
              "2021-12-31  343.544340    408.305331\n",
              "2022-12-31  312.482504    377.540672\n",
              "2023-12-31  343.258251    405.812446"
            ],
            "text/html": [
              "\n",
              "  <div id=\"df-d662c8dc-cbbe-4935-8d00-341cb1807cbb\" class=\"colab-df-container\">\n",
              "    <div>\n",
              "<style scoped>\n",
              "    .dataframe tbody tr th:only-of-type {\n",
              "        vertical-align: middle;\n",
              "    }\n",
              "\n",
              "    .dataframe tbody tr th {\n",
              "        vertical-align: top;\n",
              "    }\n",
              "\n",
              "    .dataframe thead th {\n",
              "        text-align: right;\n",
              "    }\n",
              "</style>\n",
              "<table border=\"1\" class=\"dataframe\">\n",
              "  <thead>\n",
              "    <tr style=\"text-align: right;\">\n",
              "      <th></th>\n",
              "      <th>mays_et_af</th>\n",
              "      <th>jensen_et_af</th>\n",
              "    </tr>\n",
              "    <tr>\n",
              "      <th>time</th>\n",
              "      <th></th>\n",
              "      <th></th>\n",
              "    </tr>\n",
              "  </thead>\n",
              "  <tbody>\n",
              "    <tr>\n",
              "      <th>1990-12-31</th>\n",
              "      <td>311.057862</td>\n",
              "      <td>312.417492</td>\n",
              "    </tr>\n",
              "    <tr>\n",
              "      <th>1991-12-31</th>\n",
              "      <td>289.448582</td>\n",
              "      <td>287.410229</td>\n",
              "    </tr>\n",
              "    <tr>\n",
              "      <th>1992-12-31</th>\n",
              "      <td>250.450877</td>\n",
              "      <td>247.085722</td>\n",
              "    </tr>\n",
              "    <tr>\n",
              "      <th>1993-12-31</th>\n",
              "      <td>266.918842</td>\n",
              "      <td>250.068715</td>\n",
              "    </tr>\n",
              "    <tr>\n",
              "      <th>1994-12-31</th>\n",
              "      <td>289.901350</td>\n",
              "      <td>278.445568</td>\n",
              "    </tr>\n",
              "    <tr>\n",
              "      <th>1995-12-31</th>\n",
              "      <td>320.966503</td>\n",
              "      <td>312.376715</td>\n",
              "    </tr>\n",
              "    <tr>\n",
              "      <th>1996-12-31</th>\n",
              "      <td>305.513534</td>\n",
              "      <td>312.769586</td>\n",
              "    </tr>\n",
              "    <tr>\n",
              "      <th>1997-12-31</th>\n",
              "      <td>354.085695</td>\n",
              "      <td>331.325462</td>\n",
              "    </tr>\n",
              "    <tr>\n",
              "      <th>1998-12-31</th>\n",
              "      <td>268.119588</td>\n",
              "      <td>268.879447</td>\n",
              "    </tr>\n",
              "    <tr>\n",
              "      <th>1999-12-31</th>\n",
              "      <td>311.302489</td>\n",
              "      <td>311.345528</td>\n",
              "    </tr>\n",
              "    <tr>\n",
              "      <th>2000-12-31</th>\n",
              "      <td>322.789182</td>\n",
              "      <td>325.323405</td>\n",
              "    </tr>\n",
              "    <tr>\n",
              "      <th>2001-12-31</th>\n",
              "      <td>381.712801</td>\n",
              "      <td>368.793227</td>\n",
              "    </tr>\n",
              "    <tr>\n",
              "      <th>2002-12-31</th>\n",
              "      <td>396.118434</td>\n",
              "      <td>371.074385</td>\n",
              "    </tr>\n",
              "    <tr>\n",
              "      <th>2003-12-31</th>\n",
              "      <td>334.718692</td>\n",
              "      <td>330.008836</td>\n",
              "    </tr>\n",
              "    <tr>\n",
              "      <th>2004-12-31</th>\n",
              "      <td>339.357485</td>\n",
              "      <td>338.069346</td>\n",
              "    </tr>\n",
              "    <tr>\n",
              "      <th>2005-12-31</th>\n",
              "      <td>408.420275</td>\n",
              "      <td>406.435080</td>\n",
              "    </tr>\n",
              "    <tr>\n",
              "      <th>2006-12-31</th>\n",
              "      <td>309.854628</td>\n",
              "      <td>380.313507</td>\n",
              "    </tr>\n",
              "    <tr>\n",
              "      <th>2007-12-31</th>\n",
              "      <td>319.023583</td>\n",
              "      <td>401.773174</td>\n",
              "    </tr>\n",
              "    <tr>\n",
              "      <th>2008-12-31</th>\n",
              "      <td>307.729275</td>\n",
              "      <td>372.733695</td>\n",
              "    </tr>\n",
              "    <tr>\n",
              "      <th>2009-12-31</th>\n",
              "      <td>304.965403</td>\n",
              "      <td>388.947247</td>\n",
              "    </tr>\n",
              "    <tr>\n",
              "      <th>2010-12-31</th>\n",
              "      <td>292.035825</td>\n",
              "      <td>384.860139</td>\n",
              "    </tr>\n",
              "    <tr>\n",
              "      <th>2011-12-31</th>\n",
              "      <td>267.784573</td>\n",
              "      <td>356.223725</td>\n",
              "    </tr>\n",
              "    <tr>\n",
              "      <th>2012-12-31</th>\n",
              "      <td>233.516049</td>\n",
              "      <td>327.950383</td>\n",
              "    </tr>\n",
              "    <tr>\n",
              "      <th>2013-12-31</th>\n",
              "      <td>263.085245</td>\n",
              "      <td>356.126488</td>\n",
              "    </tr>\n",
              "    <tr>\n",
              "      <th>2014-12-31</th>\n",
              "      <td>322.347195</td>\n",
              "      <td>445.145759</td>\n",
              "    </tr>\n",
              "    <tr>\n",
              "      <th>2015-12-31</th>\n",
              "      <td>306.392533</td>\n",
              "      <td>398.185584</td>\n",
              "    </tr>\n",
              "    <tr>\n",
              "      <th>2016-12-31</th>\n",
              "      <td>328.273805</td>\n",
              "      <td>368.910853</td>\n",
              "    </tr>\n",
              "    <tr>\n",
              "      <th>2017-12-31</th>\n",
              "      <td>256.521776</td>\n",
              "      <td>321.764829</td>\n",
              "    </tr>\n",
              "    <tr>\n",
              "      <th>2018-12-31</th>\n",
              "      <td>283.450658</td>\n",
              "      <td>354.982380</td>\n",
              "    </tr>\n",
              "    <tr>\n",
              "      <th>2019-12-31</th>\n",
              "      <td>276.659975</td>\n",
              "      <td>332.484469</td>\n",
              "    </tr>\n",
              "    <tr>\n",
              "      <th>2020-12-31</th>\n",
              "      <td>315.312715</td>\n",
              "      <td>391.380534</td>\n",
              "    </tr>\n",
              "    <tr>\n",
              "      <th>2021-12-31</th>\n",
              "      <td>343.544340</td>\n",
              "      <td>408.305331</td>\n",
              "    </tr>\n",
              "    <tr>\n",
              "      <th>2022-12-31</th>\n",
              "      <td>312.482504</td>\n",
              "      <td>377.540672</td>\n",
              "    </tr>\n",
              "    <tr>\n",
              "      <th>2023-12-31</th>\n",
              "      <td>343.258251</td>\n",
              "      <td>405.812446</td>\n",
              "    </tr>\n",
              "  </tbody>\n",
              "</table>\n",
              "</div>\n",
              "    <div class=\"colab-df-buttons\">\n",
              "\n",
              "  <div class=\"colab-df-container\">\n",
              "    <button class=\"colab-df-convert\" onclick=\"convertToInteractive('df-d662c8dc-cbbe-4935-8d00-341cb1807cbb')\"\n",
              "            title=\"Convert this dataframe to an interactive table.\"\n",
              "            style=\"display:none;\">\n",
              "\n",
              "  <svg xmlns=\"http://www.w3.org/2000/svg\" height=\"24px\" viewBox=\"0 -960 960 960\">\n",
              "    <path d=\"M120-120v-720h720v720H120Zm60-500h600v-160H180v160Zm220 220h160v-160H400v160Zm0 220h160v-160H400v160ZM180-400h160v-160H180v160Zm440 0h160v-160H620v160ZM180-180h160v-160H180v160Zm440 0h160v-160H620v160Z\"/>\n",
              "  </svg>\n",
              "    </button>\n",
              "\n",
              "  <style>\n",
              "    .colab-df-container {\n",
              "      display:flex;\n",
              "      gap: 12px;\n",
              "    }\n",
              "\n",
              "    .colab-df-convert {\n",
              "      background-color: #E8F0FE;\n",
              "      border: none;\n",
              "      border-radius: 50%;\n",
              "      cursor: pointer;\n",
              "      display: none;\n",
              "      fill: #1967D2;\n",
              "      height: 32px;\n",
              "      padding: 0 0 0 0;\n",
              "      width: 32px;\n",
              "    }\n",
              "\n",
              "    .colab-df-convert:hover {\n",
              "      background-color: #E2EBFA;\n",
              "      box-shadow: 0px 1px 2px rgba(60, 64, 67, 0.3), 0px 1px 3px 1px rgba(60, 64, 67, 0.15);\n",
              "      fill: #174EA6;\n",
              "    }\n",
              "\n",
              "    .colab-df-buttons div {\n",
              "      margin-bottom: 4px;\n",
              "    }\n",
              "\n",
              "    [theme=dark] .colab-df-convert {\n",
              "      background-color: #3B4455;\n",
              "      fill: #D2E3FC;\n",
              "    }\n",
              "\n",
              "    [theme=dark] .colab-df-convert:hover {\n",
              "      background-color: #434B5C;\n",
              "      box-shadow: 0px 1px 3px 1px rgba(0, 0, 0, 0.15);\n",
              "      filter: drop-shadow(0px 1px 2px rgba(0, 0, 0, 0.3));\n",
              "      fill: #FFFFFF;\n",
              "    }\n",
              "  </style>\n",
              "\n",
              "    <script>\n",
              "      const buttonEl =\n",
              "        document.querySelector('#df-d662c8dc-cbbe-4935-8d00-341cb1807cbb button.colab-df-convert');\n",
              "      buttonEl.style.display =\n",
              "        google.colab.kernel.accessAllowed ? 'block' : 'none';\n",
              "\n",
              "      async function convertToInteractive(key) {\n",
              "        const element = document.querySelector('#df-d662c8dc-cbbe-4935-8d00-341cb1807cbb');\n",
              "        const dataTable =\n",
              "          await google.colab.kernel.invokeFunction('convertToInteractive',\n",
              "                                                    [key], {});\n",
              "        if (!dataTable) return;\n",
              "\n",
              "        const docLinkHtml = 'Like what you see? Visit the ' +\n",
              "          '<a target=\"_blank\" href=https://colab.research.google.com/notebooks/data_table.ipynb>data table notebook</a>'\n",
              "          + ' to learn more about interactive tables.';\n",
              "        element.innerHTML = '';\n",
              "        dataTable['output_type'] = 'display_data';\n",
              "        await google.colab.output.renderOutput(dataTable, element);\n",
              "        const docLink = document.createElement('div');\n",
              "        docLink.innerHTML = docLinkHtml;\n",
              "        element.appendChild(docLink);\n",
              "      }\n",
              "    </script>\n",
              "  </div>\n",
              "\n",
              "\n",
              "<div id=\"df-2b9347aa-be6f-4ba1-90f9-a7ff2710787c\">\n",
              "  <button class=\"colab-df-quickchart\" onclick=\"quickchart('df-2b9347aa-be6f-4ba1-90f9-a7ff2710787c')\"\n",
              "            title=\"Suggest charts\"\n",
              "            style=\"display:none;\">\n",
              "\n",
              "<svg xmlns=\"http://www.w3.org/2000/svg\" height=\"24px\"viewBox=\"0 0 24 24\"\n",
              "     width=\"24px\">\n",
              "    <g>\n",
              "        <path d=\"M19 3H5c-1.1 0-2 .9-2 2v14c0 1.1.9 2 2 2h14c1.1 0 2-.9 2-2V5c0-1.1-.9-2-2-2zM9 17H7v-7h2v7zm4 0h-2V7h2v10zm4 0h-2v-4h2v4z\"/>\n",
              "    </g>\n",
              "</svg>\n",
              "  </button>\n",
              "\n",
              "<style>\n",
              "  .colab-df-quickchart {\n",
              "      --bg-color: #E8F0FE;\n",
              "      --fill-color: #1967D2;\n",
              "      --hover-bg-color: #E2EBFA;\n",
              "      --hover-fill-color: #174EA6;\n",
              "      --disabled-fill-color: #AAA;\n",
              "      --disabled-bg-color: #DDD;\n",
              "  }\n",
              "\n",
              "  [theme=dark] .colab-df-quickchart {\n",
              "      --bg-color: #3B4455;\n",
              "      --fill-color: #D2E3FC;\n",
              "      --hover-bg-color: #434B5C;\n",
              "      --hover-fill-color: #FFFFFF;\n",
              "      --disabled-bg-color: #3B4455;\n",
              "      --disabled-fill-color: #666;\n",
              "  }\n",
              "\n",
              "  .colab-df-quickchart {\n",
              "    background-color: var(--bg-color);\n",
              "    border: none;\n",
              "    border-radius: 50%;\n",
              "    cursor: pointer;\n",
              "    display: none;\n",
              "    fill: var(--fill-color);\n",
              "    height: 32px;\n",
              "    padding: 0;\n",
              "    width: 32px;\n",
              "  }\n",
              "\n",
              "  .colab-df-quickchart:hover {\n",
              "    background-color: var(--hover-bg-color);\n",
              "    box-shadow: 0 1px 2px rgba(60, 64, 67, 0.3), 0 1px 3px 1px rgba(60, 64, 67, 0.15);\n",
              "    fill: var(--button-hover-fill-color);\n",
              "  }\n",
              "\n",
              "  .colab-df-quickchart-complete:disabled,\n",
              "  .colab-df-quickchart-complete:disabled:hover {\n",
              "    background-color: var(--disabled-bg-color);\n",
              "    fill: var(--disabled-fill-color);\n",
              "    box-shadow: none;\n",
              "  }\n",
              "\n",
              "  .colab-df-spinner {\n",
              "    border: 2px solid var(--fill-color);\n",
              "    border-color: transparent;\n",
              "    border-bottom-color: var(--fill-color);\n",
              "    animation:\n",
              "      spin 1s steps(1) infinite;\n",
              "  }\n",
              "\n",
              "  @keyframes spin {\n",
              "    0% {\n",
              "      border-color: transparent;\n",
              "      border-bottom-color: var(--fill-color);\n",
              "      border-left-color: var(--fill-color);\n",
              "    }\n",
              "    20% {\n",
              "      border-color: transparent;\n",
              "      border-left-color: var(--fill-color);\n",
              "      border-top-color: var(--fill-color);\n",
              "    }\n",
              "    30% {\n",
              "      border-color: transparent;\n",
              "      border-left-color: var(--fill-color);\n",
              "      border-top-color: var(--fill-color);\n",
              "      border-right-color: var(--fill-color);\n",
              "    }\n",
              "    40% {\n",
              "      border-color: transparent;\n",
              "      border-right-color: var(--fill-color);\n",
              "      border-top-color: var(--fill-color);\n",
              "    }\n",
              "    60% {\n",
              "      border-color: transparent;\n",
              "      border-right-color: var(--fill-color);\n",
              "    }\n",
              "    80% {\n",
              "      border-color: transparent;\n",
              "      border-right-color: var(--fill-color);\n",
              "      border-bottom-color: var(--fill-color);\n",
              "    }\n",
              "    90% {\n",
              "      border-color: transparent;\n",
              "      border-bottom-color: var(--fill-color);\n",
              "    }\n",
              "  }\n",
              "</style>\n",
              "\n",
              "  <script>\n",
              "    async function quickchart(key) {\n",
              "      const quickchartButtonEl =\n",
              "        document.querySelector('#' + key + ' button');\n",
              "      quickchartButtonEl.disabled = true;  // To prevent multiple clicks.\n",
              "      quickchartButtonEl.classList.add('colab-df-spinner');\n",
              "      try {\n",
              "        const charts = await google.colab.kernel.invokeFunction(\n",
              "            'suggestCharts', [key], {});\n",
              "      } catch (error) {\n",
              "        console.error('Error during call to suggestCharts:', error);\n",
              "      }\n",
              "      quickchartButtonEl.classList.remove('colab-df-spinner');\n",
              "      quickchartButtonEl.classList.add('colab-df-quickchart-complete');\n",
              "    }\n",
              "    (() => {\n",
              "      let quickchartButtonEl =\n",
              "        document.querySelector('#df-2b9347aa-be6f-4ba1-90f9-a7ff2710787c button');\n",
              "      quickchartButtonEl.style.display =\n",
              "        google.colab.kernel.accessAllowed ? 'block' : 'none';\n",
              "    })();\n",
              "  </script>\n",
              "</div>\n",
              "\n",
              "  <div id=\"id_c8767355-f00a-479f-9600-b4beb0b6bddd\">\n",
              "    <style>\n",
              "      .colab-df-generate {\n",
              "        background-color: #E8F0FE;\n",
              "        border: none;\n",
              "        border-radius: 50%;\n",
              "        cursor: pointer;\n",
              "        display: none;\n",
              "        fill: #1967D2;\n",
              "        height: 32px;\n",
              "        padding: 0 0 0 0;\n",
              "        width: 32px;\n",
              "      }\n",
              "\n",
              "      .colab-df-generate:hover {\n",
              "        background-color: #E2EBFA;\n",
              "        box-shadow: 0px 1px 2px rgba(60, 64, 67, 0.3), 0px 1px 3px 1px rgba(60, 64, 67, 0.15);\n",
              "        fill: #174EA6;\n",
              "      }\n",
              "\n",
              "      [theme=dark] .colab-df-generate {\n",
              "        background-color: #3B4455;\n",
              "        fill: #D2E3FC;\n",
              "      }\n",
              "\n",
              "      [theme=dark] .colab-df-generate:hover {\n",
              "        background-color: #434B5C;\n",
              "        box-shadow: 0px 1px 3px 1px rgba(0, 0, 0, 0.15);\n",
              "        filter: drop-shadow(0px 1px 2px rgba(0, 0, 0, 0.3));\n",
              "        fill: #FFFFFF;\n",
              "      }\n",
              "    </style>\n",
              "    <button class=\"colab-df-generate\" onclick=\"generateWithVariable('ann_dif_af')\"\n",
              "            title=\"Generate code using this dataframe.\"\n",
              "            style=\"display:none;\">\n",
              "\n",
              "  <svg xmlns=\"http://www.w3.org/2000/svg\" height=\"24px\"viewBox=\"0 0 24 24\"\n",
              "       width=\"24px\">\n",
              "    <path d=\"M7,19H8.4L18.45,9,17,7.55,7,17.6ZM5,21V16.75L18.45,3.32a2,2,0,0,1,2.83,0l1.4,1.43a1.91,1.91,0,0,1,.58,1.4,1.91,1.91,0,0,1-.58,1.4L9.25,21ZM18.45,9,17,7.55Zm-12,3A5.31,5.31,0,0,0,4.9,8.1,5.31,5.31,0,0,0,1,6.5,5.31,5.31,0,0,0,4.9,4.9,5.31,5.31,0,0,0,6.5,1,5.31,5.31,0,0,0,8.1,4.9,5.31,5.31,0,0,0,12,6.5,5.46,5.46,0,0,0,6.5,12Z\"/>\n",
              "  </svg>\n",
              "    </button>\n",
              "    <script>\n",
              "      (() => {\n",
              "      const buttonEl =\n",
              "        document.querySelector('#id_c8767355-f00a-479f-9600-b4beb0b6bddd button.colab-df-generate');\n",
              "      buttonEl.style.display =\n",
              "        google.colab.kernel.accessAllowed ? 'block' : 'none';\n",
              "\n",
              "      buttonEl.onclick = () => {\n",
              "        google.colab.notebook.generateWithVariable('ann_dif_af');\n",
              "      }\n",
              "      })();\n",
              "    </script>\n",
              "  </div>\n",
              "\n",
              "    </div>\n",
              "  </div>\n"
            ],
            "application/vnd.google.colaboratory.intrinsic+json": {
              "type": "dataframe",
              "variable_name": "ann_dif_af",
              "summary": "{\n  \"name\": \"ann_dif_af\",\n  \"rows\": 34,\n  \"fields\": [\n    {\n      \"column\": \"time\",\n      \"properties\": {\n        \"dtype\": \"date\",\n        \"min\": \"1990-12-31 00:00:00\",\n        \"max\": \"2023-12-31 00:00:00\",\n        \"num_unique_values\": 34,\n        \"samples\": [\n          \"2005-12-31 00:00:00\",\n          \"2009-12-31 00:00:00\",\n          \"2017-12-31 00:00:00\"\n        ],\n        \"semantic_type\": \"\",\n        \"description\": \"\"\n      }\n    },\n    {\n      \"column\": \"mays_et_af\",\n      \"properties\": {\n        \"dtype\": \"number\",\n        \"std\": 39.565841041833046,\n        \"min\": 233.51604851867202,\n        \"max\": 408.42027454613043,\n        \"num_unique_values\": 34,\n        \"samples\": [\n          408.42027454613043,\n          304.96540335926505,\n          256.52177553687693\n        ],\n        \"semantic_type\": \"\",\n        \"description\": \"\"\n      }\n    },\n    {\n      \"column\": \"jensen_et_af\",\n      \"properties\": {\n        \"dtype\": \"number\",\n        \"std\": 48.14080039309852,\n        \"min\": 247.08572218079195,\n        \"max\": 445.14575887700664,\n        \"num_unique_values\": 34,\n        \"samples\": [\n          406.4350795003986,\n          388.9472468096717,\n          321.76482942423394\n        ],\n        \"semantic_type\": \"\",\n        \"description\": \"\"\n      }\n    }\n  ]\n}"
            }
          },
          "metadata": {},
          "execution_count": 163
        }
      ]
    },
    {
      "cell_type": "code",
      "source": [
        "plt.style.use('fivethirtyeight')\n",
        "fig,axs = plt.subplots(1,2,figsize=(12,4),sharey=True)\n",
        "ann_dif_af['1990-01-01':'2005-12-31'][['mays_et_af', 'jensen_et_af']].plot(kind='box', ax=axs[0])\n",
        "axs[0].title.set_text('Annual ET average 1990-2005')\n",
        "axs[0].set_ylabel('ET (acre-ft)')\n",
        "ann_dif_af['2006-01-01':'2023-12-31'][['mays_et_af', 'jensen_et_af']].plot(kind='box', ax=axs[1])\n",
        "axs[1].title.set_text('Annual ET average 2006-2023')\n",
        "plt.show()"
      ],
      "metadata": {
        "colab": {
          "base_uri": "https://localhost:8080/",
          "height": 416
        },
        "id": "_I1VaOcZXDwF",
        "outputId": "8c33db97-9dba-42e2-f021-3bde9d2bc505"
      },
      "execution_count": 165,
      "outputs": [
        {
          "output_type": "display_data",
          "data": {
            "text/plain": [
              "<Figure size 1200x400 with 2 Axes>"
            ],
            "image/png": "[encoded data removed]"
          },
          "metadata": {}
        }
      ]
    },
    {
      "cell_type": "code",
      "source": [
        "# Import the necessary libraries:\n",
        "import seaborn as sns\n",
        "import numpy as np\n",
        "from scipy import stats\n",
        "\n",
        "B_MAYS = np.array(ann_dif_af['1990-01-01':'2005-12-31']['mays_et_af'])\n",
        "B_JENSEN =np.array(ann_dif_af['1990-01-01':'2005-12-31']['jensen_et_af'])\n",
        "\n",
        "A_MAYS  = np.array(ann_dif_af['2006-01-01':'2023-12-31']['mays_et_af'])\n",
        "A_JENSEN = np.array(ann_dif_af['2006-01-01':'2023-12-31']['jensen_et_af'])\n",
        "\n",
        "\n",
        "# Perform the t-test:\n",
        "At_stat, Ap_value = stats.ttest_ind(A_MAYS, A_JENSEN)\n",
        "Bt_stat, Bp_value = stats.ttest_ind(B_MAYS, B_JENSEN)\n",
        "\n",
        "# Interpret the results:\n",
        "alpha = 0.05\n",
        "\n",
        "if Bp_value < alpha:\n",
        "  print(\"Reject the null hypothesis; there is a significant difference between the mean ET volumes from Mays and Jensen Before Removal.\")\n",
        "else:\n",
        "  print(\"Fail to reject the null hypothesis; there is no significant difference between the mean ET volumes from Mays and Jensen Before Removal.\")\n",
        "\n",
        "print('')\n",
        "if Ap_value < alpha:\n",
        "  print(\"Reject the null hypothesis; there is a significant difference between the mean ET volumes from Mays and Jensen Post Removal.\")\n",
        "else:\n",
        "  print(\"Fail to reject the null hypothesis; there is no significant difference between the mean ET volumes from Mays and Jensen Post Removal.\")\n",
        "\n",
        "\n"
      ],
      "metadata": {
        "colab": {
          "base_uri": "https://localhost:8080/"
        },
        "id": "LvYiBydJYaTz",
        "outputId": "06b7b579-7ad3-45b5-85d5-da5288a85979"
      },
      "execution_count": 169,
      "outputs": [
        {
          "output_type": "stream",
          "name": "stdout",
          "text": [
            "Fail to reject the null hypothesis; there is no significant difference between the mean ET volumes from Mays and Jensen Before Removal.\n",
            "\n",
            "Reject the null hypothesis; there is a significant difference between the mean ET volumes from Mays and Jensen Post Removal.\n"
          ]
        }
      ]
    },
    {
      "cell_type": "code",
      "source": [],
      "metadata": {
        "id": "yic4GpjMZNNI"
      },
      "execution_count": null,
      "outputs": []
    }
  ]
}