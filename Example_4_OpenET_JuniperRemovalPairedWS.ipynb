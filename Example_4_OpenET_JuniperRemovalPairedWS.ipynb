{
  "nbformat": 4,
  "nbformat_minor": 0,
  "metadata": {
    "colab": {
      "provenance": [],
      "authorship_tag": "ABX9TyOxEw462xcivgodqNKdyfei",
      "include_colab_link": true
    },
    "kernelspec": {
      "name": "python3",
      "display_name": "Python 3"
    },
    "language_info": {
      "name": "python"
    }
  },
  "cells": [
    {
      "cell_type": "markdown",
      "metadata": {
        "id": "view-in-github",
        "colab_type": "text"
      },
      "source": [
        "<a href=\"https://colab.research.google.com/github/sciencebyAJ/OWRD_Training_20240927/blob/main/Example_4_OpenET_JuniperRemovalPairedWS.ipynb\" target=\"_parent\"><img src=\"https://colab.research.google.com/assets/colab-badge.svg\" alt=\"Open In Colab\"/></a>"
      ]
    },
    {
      "cell_type": "markdown",
      "source": [
        "# Evaluating Paired Watersheds\n",
        "\n",
        "* A set of paired watersheds are used to evaluate forest management impacts on ET rates and potentially water yield.\n",
        "\n",
        "* This example evaluates the Mays and Jensen Watersheds using OpenET data.\n",
        "\n",
        "* Juniper pine were removed from the Mays Watershed in 2005-2006.\n",
        "\n",
        "* This example shows how to use the OpenET API endpoints to extract information about ET rates in the paired watersheds"
      ],
      "metadata": {
        "id": "QoSlH0Be4L40"
      }
    },
    {
      "cell_type": "markdown",
      "source": [
        "## Upload geospatial data\n",
        "\n",
        "*   Make git command to bring in shapefiles for training.\n",
        "*   Add files to the instance of the collab session by selecting"
      ],
      "metadata": {
        "id": "UEYF_8Ja7hsl"
      }
    },
    {
      "cell_type": "code",
      "execution_count": 1,
      "metadata": {
        "colab": {
          "base_uri": "https://localhost:8080/"
        },
        "id": "gJvbTMU4ffSq",
        "outputId": "a46e0697-2a8c-45e9-f33b-f721dd289be2"
      },
      "outputs": [
        {
          "output_type": "stream",
          "name": "stdout",
          "text": [
            "Cloning into 'OWRD_Training_20240927'...\n",
            "remote: Enumerating objects: 44, done.\u001b[K\n",
            "remote: Counting objects: 100% (44/44), done.\u001b[K\n",
            "remote: Compressing objects: 100% (37/37), done.\u001b[K\n",
            "remote: Total 44 (delta 13), reused 27 (delta 5), pack-reused 0 (from 0)\u001b[K\n",
            "Receiving objects: 100% (44/44), 61.19 KiB | 602.00 KiB/s, done.\n",
            "Resolving deltas: 100% (13/13), done.\n"
          ]
        }
      ],
      "source": [
        "! git clone https://github.com/sciencebyAJ/OWRD_Training_20240927.git"
      ]
    },
    {
      "cell_type": "code",
      "source": [
        "from google.colab import files\n",
        "uploaded = files.upload()"
      ],
      "metadata": {
        "id": "dpy4c7nx4HdK"
      },
      "execution_count": null,
      "outputs": []
    },
    {
      "cell_type": "markdown",
      "source": [
        "## Import python libraries for analysis\n",
        "\n",
        "*   geopandas allows you to read / work with shapefiles\n",
        "*   pandas supports analysis on tables and time series\n",
        "*   getpass keeps your API key hiddent\n",
        "*   requests allows you to interact with the OpenET API\n",
        "*   matplotlib enables plot customizations"
      ],
      "metadata": {
        "id": "Zmt7Zm8s4Hym"
      }
    },
    {
      "cell_type": "code",
      "source": [
        "\n",
        "import geopandas as gpd\n",
        "import pandas as pd\n",
        "import getpass\n",
        "import requests\n",
        "from matplotlib import pyplot as plt"
      ],
      "metadata": {
        "id": "kgbxfgLZfhpP"
      },
      "execution_count": 12,
      "outputs": []
    },
    {
      "cell_type": "markdown",
      "source": [
        "## Read in shapefiles:\n",
        "\n",
        "1.   Read in Shapefiles for Mays Watershed an Jensen Watershed\n",
        "2.   Re-project files to WGS 84 projection ('EPSG 4326')\n",
        "3.   Convert shapefile format to coordinate list for API call"
      ],
      "metadata": {
        "id": "nzKsaegv38O8"
      }
    },
    {
      "cell_type": "code",
      "source": [
        "maysws_gdf = gpd.read_file('/content/OWRD_Training_20240927/Shapefiles/maysWS/maysWS.shp')\n",
        "jensenws_gdf = gpd.read_file('/content/OWRD_Training_20240927/Shapefiles/jensenWS/jensenWS.shp')\n",
        "maysws_gdf_gee = maysws_gdf.to_crs(epsg=4326)\n",
        "jensenws_gdf_gee = jensenws_gdf.to_crs(epsg=4326)"
      ],
      "metadata": {
        "id": "47YgMm94gMad"
      },
      "execution_count": 3,
      "outputs": []
    },
    {
      "cell_type": "markdown",
      "source": [
        "Extract a coodinate list from the polygon geometry to make an API"
      ],
      "metadata": {
        "id": "KmxqVJsqXs2c"
      }
    },
    {
      "cell_type": "code",
      "source": [
        "# This is a function to convert the geometry of the shapefile to a list of coordinate pairs\n",
        "def get_coord_list(gdf):\n",
        "  '''\n",
        "  input\n",
        "  gdf: geodataframe (e.g. shapefile) containing 1 polygon\n",
        "  returns\n",
        "  coord_list: list of coordinate pairs defining the polygon\n",
        "              coordinate pairs allow you to interact easily with\n",
        "              the OpenET API's polygon endpoint\n",
        "  '''\n",
        "  poly_coords = gdf.geometry.get_coordinates()\n",
        "  poly_coords_list = poly_coords.values.tolist()\n",
        "  coord_list = [j for i in poly_coords_list for j in i]\n",
        "  return coord_list"
      ],
      "metadata": {
        "id": "KLpxnyqUg7Yt"
      },
      "execution_count": 30,
      "outputs": []
    },
    {
      "cell_type": "code",
      "source": [
        "# maysWS_coords is a list of coordinates for the Mays Watershed\n",
        "maysWS_coords = get_coord_list(maysws_gdf_gee)\n",
        "\n",
        "# jensensWS_coords is a list of coordinates for the Jensen Watershed\n",
        "jensensWS_coords = get_coord_list(jensenws_gdf_gee)"
      ],
      "metadata": {
        "id": "cT8xYviG9BBM"
      },
      "execution_count": 29,
      "outputs": []
    },
    {
      "cell_type": "markdown",
      "source": [
        "### Get your API key from the OpenET API website\n",
        "\n",
        "Navigate to [OpenET's website](https://account.etdata.org/settings/api) to copy your API key to the clipboard.\n"
      ],
      "metadata": {
        "id": "eT7eDRHD8nBV"
      }
    },
    {
      "cell_type": "code",
      "source": [
        "YOUR_API_KEY = getpass.getpass('Paste API Key Here --> ')"
      ],
      "metadata": {
        "colab": {
          "base_uri": "https://localhost:8080/"
        },
        "id": "v86RHq8d321G",
        "outputId": "1edb89f8-c665-4286-d385-b9714412f959"
      },
      "execution_count": 6,
      "outputs": [
        {
          "name": "stdout",
          "output_type": "stream",
          "text": [
            "Paste API Key Here --> ··········\n"
          ]
        }
      ]
    },
    {
      "cell_type": "markdown",
      "source": [
        "## Make an OpenET API request for time series\n",
        "\n",
        "* Find API parameter description information here\n",
        "* Find information on the OpenET timeseries/polygon endpoint here"
      ],
      "metadata": {
        "id": "aUUGwoiE_D3l"
      }
    },
    {
      "cell_type": "markdown",
      "source": [
        "### Extract OpenET data for the Mays Watershed"
      ],
      "metadata": {
        "id": "kDyjhSAqD-Wq"
      }
    },
    {
      "cell_type": "code",
      "source": [
        "# This code assigns the API key you input above prior to making a request\n",
        "header = {\"Authorization\": YOUR_API_KEY}\n",
        "\n",
        "# endpoint arguments\n",
        "args = {\n",
        "  \"date_range\": [\n",
        "    \"1990-01-01\", #< This is where you can adjust date range format \"YYYY-MM-DD\"\n",
        "    \"2023-12-31\"\n",
        "  ],\n",
        "  \"interval\": \"monthly\",\n",
        "  \"geometry\": maysWS_coords, #< Note that this is where you can change out geometry\n",
        "  \"model\": \"ensemble\", #<- what model do you want?\n",
        "  \"variable\": \"ET\",#<- what variable do you want? ET, EToF, ETo\n",
        "  \"reference_et\": \"gridMET\",\n",
        "  \"reducer\": \"mean\", #<- do you want mean of ET over watershed or Sum of ET?\n",
        "  \"units\": \"mm\", #<- mm or in\n",
        "  \"file_format\": \"JSON\"\n",
        "}\n",
        "\n",
        "# query the api and return to variable 'resp'\n",
        "resp = requests.post(\n",
        "    headers=header,\n",
        "    json=args,\n",
        "    url=\"https://oregon.openet-api.org/raster/timeseries/polygon\"\n",
        ")\n",
        "\n",
        "# Converts the json to a table for analysis\n",
        "Mays_df = pd.DataFrame.from_dict(resp.json())"
      ],
      "metadata": {
        "id": "NV4VRW1D2IUY"
      },
      "execution_count": 63,
      "outputs": []
    },
    {
      "cell_type": "markdown",
      "source": [
        "Let's pause to look at the table that was returned here"
      ],
      "metadata": {
        "id": "H0uCy6wfCn45"
      }
    },
    {
      "cell_type": "code",
      "source": [
        "Mays_df"
      ],
      "metadata": {
        "id": "hB18rQQvpnwq"
      },
      "execution_count": null,
      "outputs": []
    },
    {
      "cell_type": "markdown",
      "source": [
        "#### Save the table to your computer.\n",
        "\n",
        "\n"
      ],
      "metadata": {
        "id": "zuYQ4Sy9C4Gs"
      }
    },
    {
      "cell_type": "markdown",
      "source": [
        "If you want to save the table as a csv file.\n",
        "```\n",
        "Mays_df.to_csv('Mays_WS_ET_2010_2023.csv')\n",
        "```\n",
        "\n",
        "If you want to save the table as an Excel sheet.\n",
        "```\n",
        "Mays_df.to_excel('Mays_WS_ET_2010_2023.xlxs')\n",
        "```\n",
        "\n",
        "If you copy and paste one of these code blocks in the cell below the file will be saved to the 'Files' Tab on the left of the screen. Then you can click on the three dots on right to select download to your local computer for analysis.\n",
        "\n",
        "**Try it out**: Paste on fo the code sections into the cell below and run the code."
      ],
      "metadata": {
        "id": "spELbP5HEkYG"
      }
    },
    {
      "cell_type": "code",
      "source": [
        "# Paste code here\n"
      ],
      "metadata": {
        "id": "jR1GU2Y_C3mO"
      },
      "execution_count": 55,
      "outputs": []
    },
    {
      "cell_type": "markdown",
      "source": [
        "### Extract OpenET data for the Jensen Watershed"
      ],
      "metadata": {
        "id": "wuduQLQnEPgL"
      }
    },
    {
      "cell_type": "markdown",
      "source": [
        "Repeats the same steps for the Jensen Watershed"
      ],
      "metadata": {
        "id": "A8p-vhnkHCh5"
      }
    },
    {
      "cell_type": "code",
      "source": [
        "# endpoint arguments\n",
        "args = {\n",
        "  \"date_range\": [\n",
        "    \"1990-01-01\",\n",
        "    \"2023-12-31\"\n",
        "  ],\n",
        "  \"interval\": \"monthly\",\n",
        "  \"geometry\": jensensWS_coords,\n",
        "  \"model\": \"ensemble\",\n",
        "  \"variable\": \"ET\",\n",
        "  \"reference_et\": \"gridMET\",\n",
        "  \"reducer\": \"mean\",\n",
        "  \"units\": \"mm\",\n",
        "  \"file_format\": \"JSON\"\n",
        "}\n",
        "\n",
        "# query the api\n",
        "resp = requests.post(\n",
        "    headers=header,\n",
        "    json=args,\n",
        "    url=\"https://oregon.openet-api.org/raster/timeseries/polygon\"\n",
        ")\n",
        "\n",
        "Jensen_df = pd.DataFrame.from_dict((resp.json()))"
      ],
      "metadata": {
        "id": "UPGz_akC2dDp"
      },
      "execution_count": 66,
      "outputs": []
    },
    {
      "cell_type": "markdown",
      "source": [
        "Pause to look at the table for Jensen"
      ],
      "metadata": {
        "id": "qfvqoP6KHSMr"
      }
    },
    {
      "cell_type": "code",
      "source": [
        "Jensen_df"
      ],
      "metadata": {
        "colab": {
          "base_uri": "https://localhost:8080/",
          "height": 423
        },
        "id": "f2LF15IEpu6C",
        "outputId": "93d6e3da-45d8-47d0-8a60-7f3f29457308"
      },
      "execution_count": 67,
      "outputs": [
        {
          "output_type": "execute_result",
          "data": {
            "text/plain": [
              "           time      et\n",
              "0    1990-01-01  15.291\n",
              "1    1990-02-01  14.021\n",
              "2    1990-03-01  34.298\n",
              "3    1990-04-01  47.744\n",
              "4    1990-05-01  61.395\n",
              "..          ...     ...\n",
              "403  2023-08-01  68.674\n",
              "404  2023-09-01  49.595\n",
              "405  2023-10-01  37.720\n",
              "406  2023-11-01  15.457\n",
              "407  2023-12-01  18.395\n",
              "\n",
              "[408 rows x 2 columns]"
            ],
            "text/html": [
              "\n",
              "  <div id=\"df-3ab9994b-b9fd-40df-8033-69db96937d12\" class=\"colab-df-container\">\n",
              "    <div>\n",
              "<style scoped>\n",
              "    .dataframe tbody tr th:only-of-type {\n",
              "        vertical-align: middle;\n",
              "    }\n",
              "\n",
              "    .dataframe tbody tr th {\n",
              "        vertical-align: top;\n",
              "    }\n",
              "\n",
              "    .dataframe thead th {\n",
              "        text-align: right;\n",
              "    }\n",
              "</style>\n",
              "<table border=\"1\" class=\"dataframe\">\n",
              "  <thead>\n",
              "    <tr style=\"text-align: right;\">\n",
              "      <th></th>\n",
              "      <th>time</th>\n",
              "      <th>et</th>\n",
              "    </tr>\n",
              "  </thead>\n",
              "  <tbody>\n",
              "    <tr>\n",
              "      <th>0</th>\n",
              "      <td>1990-01-01</td>\n",
              "      <td>15.291</td>\n",
              "    </tr>\n",
              "    <tr>\n",
              "      <th>1</th>\n",
              "      <td>1990-02-01</td>\n",
              "      <td>14.021</td>\n",
              "    </tr>\n",
              "    <tr>\n",
              "      <th>2</th>\n",
              "      <td>1990-03-01</td>\n",
              "      <td>34.298</td>\n",
              "    </tr>\n",
              "    <tr>\n",
              "      <th>3</th>\n",
              "      <td>1990-04-01</td>\n",
              "      <td>47.744</td>\n",
              "    </tr>\n",
              "    <tr>\n",
              "      <th>4</th>\n",
              "      <td>1990-05-01</td>\n",
              "      <td>61.395</td>\n",
              "    </tr>\n",
              "    <tr>\n",
              "      <th>...</th>\n",
              "      <td>...</td>\n",
              "      <td>...</td>\n",
              "    </tr>\n",
              "    <tr>\n",
              "      <th>403</th>\n",
              "      <td>2023-08-01</td>\n",
              "      <td>68.674</td>\n",
              "    </tr>\n",
              "    <tr>\n",
              "      <th>404</th>\n",
              "      <td>2023-09-01</td>\n",
              "      <td>49.595</td>\n",
              "    </tr>\n",
              "    <tr>\n",
              "      <th>405</th>\n",
              "      <td>2023-10-01</td>\n",
              "      <td>37.720</td>\n",
              "    </tr>\n",
              "    <tr>\n",
              "      <th>406</th>\n",
              "      <td>2023-11-01</td>\n",
              "      <td>15.457</td>\n",
              "    </tr>\n",
              "    <tr>\n",
              "      <th>407</th>\n",
              "      <td>2023-12-01</td>\n",
              "      <td>18.395</td>\n",
              "    </tr>\n",
              "  </tbody>\n",
              "</table>\n",
              "<p>408 rows × 2 columns</p>\n",
              "</div>\n",
              "    <div class=\"colab-df-buttons\">\n",
              "\n",
              "  <div class=\"colab-df-container\">\n",
              "    <button class=\"colab-df-convert\" onclick=\"convertToInteractive('df-3ab9994b-b9fd-40df-8033-69db96937d12')\"\n",
              "            title=\"Convert this dataframe to an interactive table.\"\n",
              "            style=\"display:none;\">\n",
              "\n",
              "  <svg xmlns=\"http://www.w3.org/2000/svg\" height=\"24px\" viewBox=\"0 -960 960 960\">\n",
              "    <path d=\"M120-120v-720h720v720H120Zm60-500h600v-160H180v160Zm220 220h160v-160H400v160Zm0 220h160v-160H400v160ZM180-400h160v-160H180v160Zm440 0h160v-160H620v160ZM180-180h160v-160H180v160Zm440 0h160v-160H620v160Z\"/>\n",
              "  </svg>\n",
              "    </button>\n",
              "\n",
              "  <style>\n",
              "    .colab-df-container {\n",
              "      display:flex;\n",
              "      gap: 12px;\n",
              "    }\n",
              "\n",
              "    .colab-df-convert {\n",
              "      background-color: #E8F0FE;\n",
              "      border: none;\n",
              "      border-radius: 50%;\n",
              "      cursor: pointer;\n",
              "      display: none;\n",
              "      fill: #1967D2;\n",
              "      height: 32px;\n",
              "      padding: 0 0 0 0;\n",
              "      width: 32px;\n",
              "    }\n",
              "\n",
              "    .colab-df-convert:hover {\n",
              "      background-color: #E2EBFA;\n",
              "      box-shadow: 0px 1px 2px rgba(60, 64, 67, 0.3), 0px 1px 3px 1px rgba(60, 64, 67, 0.15);\n",
              "      fill: #174EA6;\n",
              "    }\n",
              "\n",
              "    .colab-df-buttons div {\n",
              "      margin-bottom: 4px;\n",
              "    }\n",
              "\n",
              "    [theme=dark] .colab-df-convert {\n",
              "      background-color: #3B4455;\n",
              "      fill: #D2E3FC;\n",
              "    }\n",
              "\n",
              "    [theme=dark] .colab-df-convert:hover {\n",
              "      background-color: #434B5C;\n",
              "      box-shadow: 0px 1px 3px 1px rgba(0, 0, 0, 0.15);\n",
              "      filter: drop-shadow(0px 1px 2px rgba(0, 0, 0, 0.3));\n",
              "      fill: #FFFFFF;\n",
              "    }\n",
              "  </style>\n",
              "\n",
              "    <script>\n",
              "      const buttonEl =\n",
              "        document.querySelector('#df-3ab9994b-b9fd-40df-8033-69db96937d12 button.colab-df-convert');\n",
              "      buttonEl.style.display =\n",
              "        google.colab.kernel.accessAllowed ? 'block' : 'none';\n",
              "\n",
              "      async function convertToInteractive(key) {\n",
              "        const element = document.querySelector('#df-3ab9994b-b9fd-40df-8033-69db96937d12');\n",
              "        const dataTable =\n",
              "          await google.colab.kernel.invokeFunction('convertToInteractive',\n",
              "                                                    [key], {});\n",
              "        if (!dataTable) return;\n",
              "\n",
              "        const docLinkHtml = 'Like what you see? Visit the ' +\n",
              "          '<a target=\"_blank\" href=https://colab.research.google.com/notebooks/data_table.ipynb>data table notebook</a>'\n",
              "          + ' to learn more about interactive tables.';\n",
              "        element.innerHTML = '';\n",
              "        dataTable['output_type'] = 'display_data';\n",
              "        await google.colab.output.renderOutput(dataTable, element);\n",
              "        const docLink = document.createElement('div');\n",
              "        docLink.innerHTML = docLinkHtml;\n",
              "        element.appendChild(docLink);\n",
              "      }\n",
              "    </script>\n",
              "  </div>\n",
              "\n",
              "\n",
              "<div id=\"df-208dbad9-3b47-495d-a429-777345a8d846\">\n",
              "  <button class=\"colab-df-quickchart\" onclick=\"quickchart('df-208dbad9-3b47-495d-a429-777345a8d846')\"\n",
              "            title=\"Suggest charts\"\n",
              "            style=\"display:none;\">\n",
              "\n",
              "<svg xmlns=\"http://www.w3.org/2000/svg\" height=\"24px\"viewBox=\"0 0 24 24\"\n",
              "     width=\"24px\">\n",
              "    <g>\n",
              "        <path d=\"M19 3H5c-1.1 0-2 .9-2 2v14c0 1.1.9 2 2 2h14c1.1 0 2-.9 2-2V5c0-1.1-.9-2-2-2zM9 17H7v-7h2v7zm4 0h-2V7h2v10zm4 0h-2v-4h2v4z\"/>\n",
              "    </g>\n",
              "</svg>\n",
              "  </button>\n",
              "\n",
              "<style>\n",
              "  .colab-df-quickchart {\n",
              "      --bg-color: #E8F0FE;\n",
              "      --fill-color: #1967D2;\n",
              "      --hover-bg-color: #E2EBFA;\n",
              "      --hover-fill-color: #174EA6;\n",
              "      --disabled-fill-color: #AAA;\n",
              "      --disabled-bg-color: #DDD;\n",
              "  }\n",
              "\n",
              "  [theme=dark] .colab-df-quickchart {\n",
              "      --bg-color: #3B4455;\n",
              "      --fill-color: #D2E3FC;\n",
              "      --hover-bg-color: #434B5C;\n",
              "      --hover-fill-color: #FFFFFF;\n",
              "      --disabled-bg-color: #3B4455;\n",
              "      --disabled-fill-color: #666;\n",
              "  }\n",
              "\n",
              "  .colab-df-quickchart {\n",
              "    background-color: var(--bg-color);\n",
              "    border: none;\n",
              "    border-radius: 50%;\n",
              "    cursor: pointer;\n",
              "    display: none;\n",
              "    fill: var(--fill-color);\n",
              "    height: 32px;\n",
              "    padding: 0;\n",
              "    width: 32px;\n",
              "  }\n",
              "\n",
              "  .colab-df-quickchart:hover {\n",
              "    background-color: var(--hover-bg-color);\n",
              "    box-shadow: 0 1px 2px rgba(60, 64, 67, 0.3), 0 1px 3px 1px rgba(60, 64, 67, 0.15);\n",
              "    fill: var(--button-hover-fill-color);\n",
              "  }\n",
              "\n",
              "  .colab-df-quickchart-complete:disabled,\n",
              "  .colab-df-quickchart-complete:disabled:hover {\n",
              "    background-color: var(--disabled-bg-color);\n",
              "    fill: var(--disabled-fill-color);\n",
              "    box-shadow: none;\n",
              "  }\n",
              "\n",
              "  .colab-df-spinner {\n",
              "    border: 2px solid var(--fill-color);\n",
              "    border-color: transparent;\n",
              "    border-bottom-color: var(--fill-color);\n",
              "    animation:\n",
              "      spin 1s steps(1) infinite;\n",
              "  }\n",
              "\n",
              "  @keyframes spin {\n",
              "    0% {\n",
              "      border-color: transparent;\n",
              "      border-bottom-color: var(--fill-color);\n",
              "      border-left-color: var(--fill-color);\n",
              "    }\n",
              "    20% {\n",
              "      border-color: transparent;\n",
              "      border-left-color: var(--fill-color);\n",
              "      border-top-color: var(--fill-color);\n",
              "    }\n",
              "    30% {\n",
              "      border-color: transparent;\n",
              "      border-left-color: var(--fill-color);\n",
              "      border-top-color: var(--fill-color);\n",
              "      border-right-color: var(--fill-color);\n",
              "    }\n",
              "    40% {\n",
              "      border-color: transparent;\n",
              "      border-right-color: var(--fill-color);\n",
              "      border-top-color: var(--fill-color);\n",
              "    }\n",
              "    60% {\n",
              "      border-color: transparent;\n",
              "      border-right-color: var(--fill-color);\n",
              "    }\n",
              "    80% {\n",
              "      border-color: transparent;\n",
              "      border-right-color: var(--fill-color);\n",
              "      border-bottom-color: var(--fill-color);\n",
              "    }\n",
              "    90% {\n",
              "      border-color: transparent;\n",
              "      border-bottom-color: var(--fill-color);\n",
              "    }\n",
              "  }\n",
              "</style>\n",
              "\n",
              "  <script>\n",
              "    async function quickchart(key) {\n",
              "      const quickchartButtonEl =\n",
              "        document.querySelector('#' + key + ' button');\n",
              "      quickchartButtonEl.disabled = true;  // To prevent multiple clicks.\n",
              "      quickchartButtonEl.classList.add('colab-df-spinner');\n",
              "      try {\n",
              "        const charts = await google.colab.kernel.invokeFunction(\n",
              "            'suggestCharts', [key], {});\n",
              "      } catch (error) {\n",
              "        console.error('Error during call to suggestCharts:', error);\n",
              "      }\n",
              "      quickchartButtonEl.classList.remove('colab-df-spinner');\n",
              "      quickchartButtonEl.classList.add('colab-df-quickchart-complete');\n",
              "    }\n",
              "    (() => {\n",
              "      let quickchartButtonEl =\n",
              "        document.querySelector('#df-208dbad9-3b47-495d-a429-777345a8d846 button');\n",
              "      quickchartButtonEl.style.display =\n",
              "        google.colab.kernel.accessAllowed ? 'block' : 'none';\n",
              "    })();\n",
              "  </script>\n",
              "</div>\n",
              "\n",
              "  <div id=\"id_bebcb23c-d39f-46df-9af3-aff3523b19bd\">\n",
              "    <style>\n",
              "      .colab-df-generate {\n",
              "        background-color: #E8F0FE;\n",
              "        border: none;\n",
              "        border-radius: 50%;\n",
              "        cursor: pointer;\n",
              "        display: none;\n",
              "        fill: #1967D2;\n",
              "        height: 32px;\n",
              "        padding: 0 0 0 0;\n",
              "        width: 32px;\n",
              "      }\n",
              "\n",
              "      .colab-df-generate:hover {\n",
              "        background-color: #E2EBFA;\n",
              "        box-shadow: 0px 1px 2px rgba(60, 64, 67, 0.3), 0px 1px 3px 1px rgba(60, 64, 67, 0.15);\n",
              "        fill: #174EA6;\n",
              "      }\n",
              "\n",
              "      [theme=dark] .colab-df-generate {\n",
              "        background-color: #3B4455;\n",
              "        fill: #D2E3FC;\n",
              "      }\n",
              "\n",
              "      [theme=dark] .colab-df-generate:hover {\n",
              "        background-color: #434B5C;\n",
              "        box-shadow: 0px 1px 3px 1px rgba(0, 0, 0, 0.15);\n",
              "        filter: drop-shadow(0px 1px 2px rgba(0, 0, 0, 0.3));\n",
              "        fill: #FFFFFF;\n",
              "      }\n",
              "    </style>\n",
              "    <button class=\"colab-df-generate\" onclick=\"generateWithVariable('Jensen_df')\"\n",
              "            title=\"Generate code using this dataframe.\"\n",
              "            style=\"display:none;\">\n",
              "\n",
              "  <svg xmlns=\"http://www.w3.org/2000/svg\" height=\"24px\"viewBox=\"0 0 24 24\"\n",
              "       width=\"24px\">\n",
              "    <path d=\"M7,19H8.4L18.45,9,17,7.55,7,17.6ZM5,21V16.75L18.45,3.32a2,2,0,0,1,2.83,0l1.4,1.43a1.91,1.91,0,0,1,.58,1.4,1.91,1.91,0,0,1-.58,1.4L9.25,21ZM18.45,9,17,7.55Zm-12,3A5.31,5.31,0,0,0,4.9,8.1,5.31,5.31,0,0,0,1,6.5,5.31,5.31,0,0,0,4.9,4.9,5.31,5.31,0,0,0,6.5,1,5.31,5.31,0,0,0,8.1,4.9,5.31,5.31,0,0,0,12,6.5,5.46,5.46,0,0,0,6.5,12Z\"/>\n",
              "  </svg>\n",
              "    </button>\n",
              "    <script>\n",
              "      (() => {\n",
              "      const buttonEl =\n",
              "        document.querySelector('#id_bebcb23c-d39f-46df-9af3-aff3523b19bd button.colab-df-generate');\n",
              "      buttonEl.style.display =\n",
              "        google.colab.kernel.accessAllowed ? 'block' : 'none';\n",
              "\n",
              "      buttonEl.onclick = () => {\n",
              "        google.colab.notebook.generateWithVariable('Jensen_df');\n",
              "      }\n",
              "      })();\n",
              "    </script>\n",
              "  </div>\n",
              "\n",
              "    </div>\n",
              "  </div>\n"
            ],
            "application/vnd.google.colaboratory.intrinsic+json": {
              "type": "dataframe",
              "variable_name": "Jensen_df",
              "summary": "{\n  \"name\": \"Jensen_df\",\n  \"rows\": 408,\n  \"fields\": [\n    {\n      \"column\": \"time\",\n      \"properties\": {\n        \"dtype\": \"object\",\n        \"num_unique_values\": 408,\n        \"samples\": [\n          \"1995-11-01\",\n          \"2008-03-01\",\n          \"2011-07-01\"\n        ],\n        \"semantic_type\": \"\",\n        \"description\": \"\"\n      }\n    },\n    {\n      \"column\": \"et\",\n      \"properties\": {\n        \"dtype\": \"number\",\n        \"std\": 24.45640507674675,\n        \"min\": 0.093,\n        \"max\": 103.128,\n        \"num_unique_values\": 407,\n        \"samples\": [\n          14.444,\n          34.655,\n          54.911\n        ],\n        \"semantic_type\": \"\",\n        \"description\": \"\"\n      }\n    }\n  ]\n}"
            }
          },
          "metadata": {},
          "execution_count": 67
        }
      ]
    },
    {
      "cell_type": "markdown",
      "source": [
        "If you want to save the table as a csv file.\n",
        "```\n",
        "Jensen_df.to_csv('Jensen_WS_ET_2010_2023.csv')\n",
        "```\n",
        "\n",
        "If you want to save the table as an Excel sheet.\n",
        "```\n",
        "Jensen_df.to_excel('Jensen_WS_ET_2010_2023.xlxs')\n",
        "```\n",
        "\n",
        "Paste one of the code blocks into the cell below to save the table."
      ],
      "metadata": {
        "id": "GcXRopSfIv9w"
      }
    },
    {
      "cell_type": "code",
      "source": [
        "# Paste code here\n"
      ],
      "metadata": {
        "id": "kSyeUbyGI509"
      },
      "execution_count": 56,
      "outputs": []
    },
    {
      "cell_type": "markdown",
      "source": [
        "### Combine and organize the two tables for analysis\n",
        "\n",
        "* Rename the columns to track ET from each watershed\n",
        "* Merge tables on the time column\n",
        "* Assign the time column as the index of the table"
      ],
      "metadata": {
        "id": "6HoAQQ4vHHhr"
      }
    },
    {
      "cell_type": "code",
      "source": [
        "# rename the columns to reflect watershed\n",
        "Jensen_df.rename(columns={'et':'jensen_et_mm'},inplace=True)\n",
        "Mays_df.rename(columns={'et':'mays_et_mm'},inplace=True)\n",
        "\n",
        "# merge tables on the time column values\n",
        "both_df = pd.merge(Mays_df,Jensen_df,on='time')\n",
        "\n",
        "# make Python interpret time as a date instead of a string\n",
        "both_df['time']=pd.to_datetime(both_df['time'])\n",
        "# set the time as the index of the table\n",
        "both_df.set_index('time',inplace=True)"
      ],
      "metadata": {
        "id": "dUaF4fVLa7lc"
      },
      "execution_count": 68,
      "outputs": []
    },
    {
      "cell_type": "markdown",
      "source": [
        "#### Create a plot of monthly mean ET by watershed."
      ],
      "metadata": {
        "id": "3KpcoEqaJOCm"
      }
    },
    {
      "cell_type": "code",
      "source": [
        "plt.style.use('ggplot')\n",
        "fig, axs = plt.subplots(1,1, figsize=(8, 4))\n",
        "axs.set_ylabel('ET (mm)')\n",
        "both_df.mays_et_mm.plot(label='Mays WS',ax=axs)\n",
        "both_df.jensen_et_mm.plot(label='Jensen WS',ax=axs)\n",
        "axs.legend(frameon=False)\n",
        "axs.set_xlabel(' ')\n",
        "fig.tight_layout()\n",
        "fig.savefig('PairedWatershed_JuniperPineEval.png')"
      ],
      "metadata": {
        "colab": {
          "base_uri": "https://localhost:8080/",
          "height": 407
        },
        "id": "tDCVjUQnZDv4",
        "outputId": "a6f84fd9-703e-4f64-f6a7-1b22f313bbda"
      },
      "execution_count": 73,
      "outputs": [
        {
          "output_type": "display_data",
          "data": {
            "text/plain": [
              "<Figure size 800x400 with 1 Axes>"
            ],
            "image/png": "[encoded data removed]"
          },
          "metadata": {}
        }
      ]
    },
    {
      "cell_type": "markdown",
      "source": [
        "#### Convert mean monthly ET rate to volume."
      ],
      "metadata": {
        "id": "dhuhwMgAJah_"
      }
    },
    {
      "cell_type": "code",
      "source": [],
      "metadata": {
        "id": "m5B7zrEnZOa4"
      },
      "execution_count": 60,
      "outputs": []
    },
    {
      "cell_type": "code",
      "source": [],
      "metadata": {
        "id": "lyoSlO7ACjct"
      },
      "execution_count": null,
      "outputs": []
    }
  ]
}