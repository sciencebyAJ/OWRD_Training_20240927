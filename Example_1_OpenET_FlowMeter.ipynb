{
  "nbformat": 4,
  "nbformat_minor": 0,
  "metadata": {
    "colab": {
      "provenance": [],
      "authorship_tag": "ABX9TyOKc6uEsORc7UKZ0D8mtpSh",
      "include_colab_link": true
    },
    "kernelspec": {
      "name": "python3",
      "display_name": "Python 3"
    },
    "language_info": {
      "name": "python"
    }
  },
  "cells": [
    {
      "cell_type": "markdown",
      "metadata": {
        "id": "view-in-github",
        "colab_type": "text"
      },
      "source": [
        "<a href=\"https://colab.research.google.com/github/sciencebyAJ/OWRD_Training_20240927/blob/main/Example_1_OpenET_FlowMeter.ipynb\" target=\"_parent\"><img src=\"https://colab.research.google.com/assets/colab-badge.svg\" alt=\"Open In Colab\"/></a>"
      ]
    },
    {
      "cell_type": "code",
      "execution_count": 19,
      "metadata": {
        "colab": {
          "base_uri": "https://localhost:8080/"
        },
        "id": "gJvbTMU4ffSq",
        "outputId": "10095c72-df9f-4ffb-b361-51c6820c37de"
      },
      "outputs": [
        {
          "output_type": "stream",
          "name": "stdout",
          "text": [
            "fatal: destination path 'OWRD_Training_20240927' already exists and is not an empty directory.\n"
          ]
        }
      ],
      "source": [
        "! git clone https://github.com/sciencebyAJ/OWRD_Training_20240927.git"
      ]
    },
    {
      "cell_type": "code",
      "source": [
        "import geopandas as gpd\n",
        "import glob"
      ],
      "metadata": {
        "id": "kgbxfgLZfhpP"
      },
      "execution_count": 4,
      "outputs": []
    },
    {
      "cell_type": "code",
      "source": [
        "glob.glob('/content/OWRD_Training_20240927/Shapefiles/tumalo_irrigation_district/*.shp')"
      ],
      "metadata": {
        "colab": {
          "base_uri": "https://localhost:8080/"
        },
        "id": "47YgMm94gMad",
        "outputId": "59ec062e-223e-42d1-c3e4-f195dab8e096"
      },
      "execution_count": 6,
      "outputs": [
        {
          "output_type": "execute_result",
          "data": {
            "text/plain": [
              "['/content/OWRD_Training_20240927/Shapefiles/tumalo_irrigation_district/tumalo_irrigation_district.shp',\n",
              " '/content/OWRD_Training_20240927/Shapefiles/tumalo_irrigation_district/tumalo_irrigation_district.cpg',\n",
              " '/content/OWRD_Training_20240927/Shapefiles/tumalo_irrigation_district/tumalo_irrigation_district.sbn',\n",
              " '/content/OWRD_Training_20240927/Shapefiles/tumalo_irrigation_district/tumalo_irrigation_district.prj',\n",
              " '/content/OWRD_Training_20240927/Shapefiles/tumalo_irrigation_district/tumalo_irrigation_district.dbf',\n",
              " '/content/OWRD_Training_20240927/Shapefiles/tumalo_irrigation_district/tumalo_irrigation_district.sbx',\n",
              " '/content/OWRD_Training_20240927/Shapefiles/tumalo_irrigation_district/tumalo_irrigation_district.shx',\n",
              " '/content/OWRD_Training_20240927/Shapefiles/tumalo_irrigation_district/tumalo_irrigation_district.shp.xml']"
            ]
          },
          "metadata": {},
          "execution_count": 6
        }
      ]
    },
    {
      "cell_type": "code",
      "source": [
        "tum_id_gdf = gpd.read_file('/content/OWRD_Training_20240927/Shapefiles/tumalo_irrigation_district/tumalo_irrigation_district.shp')\n",
        "maysws_gdf = gpd.read_file('/content/OWRD_Training_20240927/Shapefiles/maysWS/maysWS.shp')\n",
        "jensenws_gdf = gpd.read_file('/content/OWRD_Training_20240927/Shapefiles/jensenWS/jensenWS.shp')\n",
        "\n"
      ],
      "metadata": {
        "id": "ZJxO3WuFgYut"
      },
      "execution_count": 18,
      "outputs": []
    },
    {
      "cell_type": "code",
      "source": [],
      "metadata": {
        "id": "KLpxnyqUg7Yt"
      },
      "execution_count": null,
      "outputs": []
    }
  ]
}